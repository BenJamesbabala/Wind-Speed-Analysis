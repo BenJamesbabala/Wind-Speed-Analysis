{
 "cells": [
  {
   "cell_type": "markdown",
   "metadata": {},
   "source": [
    "# Modelling Wind Speed and Direction Distribution using Gaussain Mixture Modles (OEN method)\n",
    "\n",
    "OEN Method: Harris, Cook\n",
    "The parent wind speed distribution: Why Weibull?\n",
    "http://www.sciencedirect.com/science/article/pii/S0167610514001056\n",
    "\n",
    "Gaussian Mixture Modles, \n",
    "http://scikit-learn.org/stable/modules/mixture.html"
   ]
  },
  {
   "cell_type": "markdown",
   "metadata": {},
   "source": [
    "# 1. Set up"
   ]
  },
  {
   "cell_type": "markdown",
   "metadata": {},
   "source": [
    "## 1.1 Environment"
   ]
  },
  {
   "cell_type": "code",
   "execution_count": 1,
   "metadata": {
    "collapsed": false
   },
   "outputs": [
    {
     "data": {
      "text/html": [
       "<script>\n",
       "    code_show=false;\n",
       "    function code_toggle() {\n",
       "     if (code_show){\n",
       "     $('div.input').hide();\n",
       "     } else {\n",
       "     $('div.input').show();\n",
       "     }\n",
       "     code_show = !code_show\n",
       "    }\n",
       "    $( document ).ready(code_toggle);\n",
       "    </script>\n",
       "    <form action=\"javascript:code_toggle()\"><input type=\"submit\" value=\"Click here to toggle on/off the raw code.\"></form>"
      ],
      "text/plain": [
       "<IPython.core.display.HTML object>"
      ]
     },
     "metadata": {},
     "output_type": "display_data"
    },
    {
     "data": {
      "text/html": [
       "<script type='text/javascript'>function generate_toc_content(){var all_headers=$(\"#notebook\").find(\":header\");var toc=\"\";var level=0;var min_level=3;all_headers.each(function(i,h){var openLevel=parseInt(h.tagName.slice(1),10);if(openLevel>min_level){return;}\n",
       "var titleText=$(h).clone().children().remove().end().text();if(openLevel>level){toc+=(new Array(openLevel-level+1)).join(\"<ol class='toc-item unstyle'>\");}else if(openLevel<level){toc+=(new Array(level-openLevel+1)).join('</li></ol>');}else{toc+=(new Array(level+1)).join('</li>');}\n",
       "level=parseInt(openLevel);var anchor=$(h).attr('id');toc+='<li><a href=\"#'+anchor+'\">'+titleText\n",
       "+'</a>';});if(level){toc+=(new Array(level+1)).join('</ol>');}\n",
       "return toc}\n",
       "function show_list_number(){$(\"#toc ol\").toggleClass('unstyle');$(\"#toc ol\").toggleClass('nested');$(\"#toc li\").toggleClass('nested');};var create_toc_div=function(){var toc_wrapper=$('<div id=\"toc-wrapper\"/>').append($(\"<div/>\",{class:'header',text:'Contents '}).append($(\"<a/>\",{id:'toc-reload-btn',href:'#',title:'Reload ToC',text:\"  \\u21BB\"}).click(function(){create_toc();return false;})).append($(\"<a/>\",{id:'display-heading-number-btn',href:'#',title:'Number text sections',text:'#'}).click(function(){show_list_number();}))).append($(\"<div/>\",{id:\"toc\"}));$('<div/>',{class:'col-md-2',id:'toc-column'}).append(toc_wrapper).insertBefore('#notebook-container');};var toggle_toc=function(){$(\"#toc-column\").toggle({duration:0,complete:function(){$('#notebook-container').toggleClass(\"col-md-9\").toggleClass(\"col-md-10 col-md-offset-1\");}});};var init_toc_container=function(){if($(\"#toc_button\").length===0){if(typeof IPython!=\"undefined\"){IPython.toolbar.add_buttons_group([{'label':'Table of Contents','icon':'fa-list','callback':toggle_toc,'id':'toc_button'}]);}}\n",
       "create_toc_div();$('#notebook').addClass('row');$('#notebook-container').addClass('col-md-9').removeClass('container');};var create_toc=function(){var ToC=generate_toc_content();$(\"#toc\").empty().append(ToC);};$(document).ready(function(){if(!$('#notebook').hasClass('row')){init_toc_container()}\n",
       "if(typeof IPython!=\"undefined\"){$([IPython.events]).on(\"rendered.MarkdownCell\",function(){create_toc();});}\n",
       "create_toc();});</script><style media='screen' type='text/css'>#toc {    height: 100%;}#toc > .toc-item {    padding: 0;    margin:  0;}#toc .toc-item .toc-item{  padding-left: 10px;}.toc-item.unstyle {    list-style-type: none;}ol.nested{    counter-reset: item}li.nested{    display: block}li.nested:before{    content: counters(item, \".\") \". \";    counter-increment: item}#ipython-main-app #toc-wrapper{    height: 85%;}#toc-wrapper {    height: 95%;    padding: 10px;    position: fixed;    max-width: 200px;    background-color: #fff;    opacity: .8;    overflow: scroll;}#toc-wrapper.closed {  min-width: 100px;  width: auto;  height:auto;  /*transition: width;*/}#toc-wrapper:hover{  opacity: 1;}#toc-wrapper .header {  font-size: 18px;  font-weight: bold;}#toc-wrapper .hide-btn {  font-size: 14px;  font-family: monospace;}#toc-reload-btn, #display-heading-number-btn {    font-size: 14px;    font-family: monospace;    margin-right: 10px;}#toc-wrapper .toc-item-num {    font-style: normal;    font-family: Georgia, Times New Roman, Times, serif;    color: black;}.nav .active a {  color: black; }</style>"
      ],
      "text/plain": [
       "<IPython.core.display.HTML object>"
      ]
     },
     "metadata": {},
     "output_type": "display_data"
    }
   ],
   "source": [
    "%matplotlib inline\n",
    "%load_ext autoreload\n",
    "%autoreload 2\n",
    "\n",
    "from __future__ import division\n",
    "from import_file import *\n",
    "load_libs()"
   ]
  },
  {
   "cell_type": "markdown",
   "metadata": {},
   "source": [
    "## 1.2 Read Data"
   ]
  },
  {
   "cell_type": "code",
   "execution_count": 2,
   "metadata": {
    "collapsed": false
   },
   "outputs": [],
   "source": [
    "# ipath= './data/NCDC/uk/boscombe_down/dat.txt' # weird shape at 3, try 4\n",
    "# ipath= './data/NCDC/uk/middle_wallop/dat.txt'\n",
    "# ipath= './data/NCDC/uk/southhamption/dat.txt'\n",
    "# ipath= './data/NCDC/uk/bournemouth/dat.txt'\n",
    "# ipath= './data/NCDC/tiree.txt'\n",
    "# ipath= \"./data/NCDC/marham.txt\"\n",
    "# ipath= \"./data/NCDC/uk/holbeach/dat.txt\"\n",
    "# ipath= \"./data/NCDC/uk/weybourne/dat.txt\"\n",
    "# ipath= \"./data/NCDC/uk/cambridge/dat.txt\"\n",
    "# ipath= \"./data/NCDC/uk/wattisham/dat.txt\"\n",
    "# ipath= \"./data/NCDC/uk/lakenheath/dat.txt\" # irregular sampling time\n",
    "# ipath= \"./data/NCDC/uk/mildenhall/dat.txt\" # irregular sampling time\n",
    "\n",
    "# ipath= \"./data/NCDC/southeast_asia/paya_lebar/dat.txt\" # recent 5 year maybe corrupted\n",
    "# ipath= \"./data/NCDC/southeast_asia/sultan_ismail/dat.txt\" # high initial data\n",
    "# ipath= \"./data/NCDC/southeast_asia/singapore_changi/dat.txt\" # corrupted\n",
    "# ipath= \"./data/NCDC/east_asia/cheongju_intl/dat.txt\"\n",
    "# ipath= \"./data/NCDC/east_asia/daegu_ab/dat.txt\" # recent 5 year data is corrupted\n",
    "\n",
    "# ipath= \"./data/NCDC/canada/melita_man/dat.txt\" \n",
    "# ipath= \"./data/NCDC/canada/manouane_est_que/dat.txt\"  \n",
    "# ipath= \"./data/NCDC/canada/st_johns_intl/dat.txt\" # lack 2011-12\n",
    "# ipath= \"./data/NCDC/canada/mildred_lake_alta/dat.txt\"  # uptail wind speed \n",
    "# ipath= \"./data/NCDC/canada/fort_smith/dat.txt\" # hard to fit\n",
    "# ipath= \"./data/NCDC/canada/havre_st_pierre/dat.txt\" # truncate, irregular sample time\n",
    "# ipath= \"./data/NCDC/canada/moosonee_awos/dat.txt\" # truncate, irregular sample time\n",
    "# ipath= \"./data/NCDC/canada/hay_rivier_a/dat.txt\" # truncate\n",
    "# ipath= \"./data/NCDC/canada/gander_intl/dat.txt\" # truancate dataset, try 4, lack of 2011-12\n",
    "# ipath= \"./data/NCDC/canada/tukialik_bay/dat.txt\" # truncate, time shift\n",
    "# ipath= \"./data/NCDC/canada/lac_benoit_que/dat.txt\" # has 0 speed records\n",
    "# ipath= \"./data/NCDC/canada/blank_sablon/dat.txt\" # truncate\n",
    "# ipath= \"./data/NCDC/canada/argentia/dat.txt\" # weird shape\n",
    "# ipath= \"./data/NCDC/canada/longue_pointe/dat.txt\" # data may have problem, weird direction distribution\n",
    "\n",
    "# ipath= \"./data/NCDC/europe/avord/dat.txt\" # try 4\n",
    "ipath= './data/NCDC/europe/ciampino/dat.txt' # try 4\n",
    "# ipath= \"./data/NCDC/europe/holzdorf/dat.txt\"\n",
    "# ipath= \"./data/NCDC/europe/neuburg/dat.txt\"\n",
    "# ipath= \"./data/NCDC/europe/landsberg_lech/dat.txt\" # very good\n",
    "# ipath= \"./data/NCDC/europe/valladolid/dat.txt\"\n",
    "# ipath= \"./data/NCDC/europe/vatry/dat.txt\"  # double peak\n",
    "# ipath= \"./data/NCDC/europe/laupheim/dat.txt\" # double peak, 4; narror ellipse\n",
    "# ipath= \"./data/NCDC/europe/barayas/dat.txt\" # \n",
    "# ipath= \"./data/NCDC/europe/huspel_aws/dat.txt\"  # integer\n",
    "# ipath= \"./data/NCDC/europe/diepholz/dat.txt\" # recent year is integer\n",
    "# ipath= \"./data/NCDC/europe/salamanca/dat.txt\" # recent 5 year is truncate data, before is better\n",
    "\n",
    "# ipath= \"./data/NCDC/south_america/senador_petronio/dat.txt\"\n",
    "# ipath= \"./data/NCDC/south_america/ambrosio_lv/dat.txt\" # 16 sectors\n",
    "\n",
    "# ipath= \"./data/NCDC/oceania/narrandera/dat.txt\" \n",
    "# ipath= \"./data/NCDC/oceania/brisbane_archerfield/dat.txt\" \n",
    "# ipath= \"./data/NCDC/oceania/brisbane/dat.txt\" # bad fit\n",
    "# ipath= \"./data/NCDC/oceania/auckland/dat.txt\"  # Weird KDE shape\n",
    "\n",
    "# ipath= \"./data/NCDC/cn/南京lukou/dat.txt\" # \n",
    "# ipath= \"./data/NCDC/cn/luogang/dat.txt\"  # \n",
    "# ipath= \"./data/NCDC/cn/郑州xinzheng/dat.txt\" # \n",
    "# ipath= \"./data/NCDC/cn/wuxu/dat.txt\" # \n",
    "# ipath= \"./data/NCDC/cn/武汉tianhe/dat.txt\" # chi square 有问题\n",
    "# ipath= \"./data/NCDC/cn/wusu/dat.txt\" # chi square 有问题, bandwidth 过小\n",
    "# ipath= \"./data/NCDC/cn/binhai/dat.txt\" # good, but recent 5 year data may have been corrupted, 05-09 is good\n",
    "# ipath= \"./data/NCDC/cn/gushi/dat.txt\" # 16 sectors, some direction deviate big\n",
    "# ipath= \"./data/NCDC/cn/yueyang/dat.txt\" # 16 sectors, some direction deviate big\n",
    "# ipath= \"./data/NCDC/cn/广州baiyun/dat.txt\" # Is this dataset correct?\n",
    "# ipath= \"./data/NCDC/cn/zhengding/dat.txt\" #  Initial data is weird\n",
    "\n",
    "# ipath= \"./data/NCDC/cn/baoan_intl/dat.txt\" # \n",
    "# ipath= \"./data/NCDC/cn/shanghai/hongqiao_intl/dat.txt\" # good\n",
    "# ipath= \"./data/NCDC/cn/shanghai/pudong/dat.txt\"\n",
    "# ipath= './data/NCDC/cn/macau/dat.txt' # not good, feels like truncate data\n",
    "# ipath= \"./data/NCDC/cn/hk_intl/dat.txt\" # truncate dataset\n",
    "\n",
    "## US dataset, is mostly over a threshold, low wind speed is not complete\n",
    "# ipath= \"./data/NCDC/us/sheboygan/dat.txt\" # untruncate us dataset, but recent 5 year maybe corrupted\n",
    "# ipath= \"./data/NCDC/us/sacramento_arp/dat.txt\"  \n",
    "# ipath= \"./data/NCDC/us/st_louis_arp/9511346969491dat.txt\"  \n",
    "# ipath= './data/NCDC/us/huron/3461896967321dat.txt'\n",
    "# ipath= \"./data/NCDC/us/baltimore/9963956959409dat.txt\"\n",
    "# ipath= './data/NCDC/us/kennedy/5807936958436dat.txt'\n",
    "# ipath= './data/NCDC/us/newark/8455636958433dat.txt'\n",
    "# ipath= './data/NCDC/us/la_guardia/1057036958434dat.txt'\n",
    "# ipath= \"./data/NCDC/us/olympia_airport/2647036962786dat.txt\" \n",
    "# ipath= \"./data/NCDC/us/sidney/6062326959357dat.txt\" \n",
    "# ipath= \"./data/NCDC/us/general_mitchell_intl/dat.txt\"\n",
    "# ipath= \"./data/NCDC/us/quad_city_arp/dat.txt\" \n",
    "\n",
    "## Problem dataset\n",
    "# ipath= \"./data/NCDC/canada/stony_rapids_arpt/dat.txt\" # truncate data\n",
    "# ipath= \"./data/NCDC/canada/baker_lake/dat.txt\" # wrong data\n",
    "# ipath= \"./data/NCDC/canada/rankin_inlet/dat.txt\" # wrong data\n",
    "# ipath= \"./data/NCDC/canada/deer_lake_a/dat.txt\" # bad dataset\n",
    "# ipath= './data/NCDC/europe/tenerife_sur/dat.txt'  # recent year speed wired\n",
    "# ipath= \"./data/NCDC/south_america/carlos_ibanez/dat.txt\" # bad dataset, direction\n",
    "# ipath= \"./data/NCDC/south_america/rio_cuarto/dat.txt\"  # bad dataset\n",
    "# ipath= \"./data/NCDC/south_america/senador_nilo/dat.txt\" # bad dataset, direction \n",
    "# ipath= \"./data/NCDC/cn/长沙huanghua/dat.txt\" # direction may not be real\n",
    "# ipath= \"./data/NCDC/dr_ambedkar_intl/dat.txt\" # Wrong data\n",
    "\n",
    "uipath = unicode(ipath , \"utf8\")\n",
    "\n",
    "if not \"cn_database\" in ipath: \n",
    "    df = pd.read_csv(uipath,header=0, skipinitialspace=True)\n",
    "    df.rename(columns={'Date':'date','Dir':'dir','Spd':'speed','Type':'type'}, inplace=True)\n",
    "    df = df[['date','HrMn','type','dir','speed' ]]\n",
    "else:\n",
    "    df = read_cn_database(uipath)"
   ]
  },
  {
   "cell_type": "code",
   "execution_count": 3,
   "metadata": {
    "collapsed": false
   },
   "outputs": [],
   "source": [
    "df = df.query(\"(dir < 999) & (speed < 999) & \\\n",
    "              (date >= 19800000) & (date < 20160000) \")\n",
    "df.index= df['date']"
   ]
  },
  {
   "cell_type": "code",
   "execution_count": 4,
   "metadata": {
    "collapsed": false
   },
   "outputs": [
    {
     "data": {
      "text/html": [
       "<div>\n",
       "<table border=\"1\" class=\"dataframe\">\n",
       "  <thead>\n",
       "    <tr style=\"text-align: right;\">\n",
       "      <th></th>\n",
       "      <th>date</th>\n",
       "      <th>HrMn</th>\n",
       "      <th>dir</th>\n",
       "      <th>speed</th>\n",
       "      <th>dir_windrose</th>\n",
       "    </tr>\n",
       "  </thead>\n",
       "  <tbody>\n",
       "    <tr>\n",
       "      <th>count</th>\n",
       "      <td>5.633720e+05</td>\n",
       "      <td>563372.000000</td>\n",
       "      <td>563372.000000</td>\n",
       "      <td>563372.000000</td>\n",
       "      <td>563372.000000</td>\n",
       "    </tr>\n",
       "    <tr>\n",
       "      <th>mean</th>\n",
       "      <td>1.997733e+07</td>\n",
       "      <td>1188.271563</td>\n",
       "      <td>181.525656</td>\n",
       "      <td>3.200990</td>\n",
       "      <td>149.904234</td>\n",
       "    </tr>\n",
       "    <tr>\n",
       "      <th>std</th>\n",
       "      <td>1.039022e+05</td>\n",
       "      <td>664.717017</td>\n",
       "      <td>105.099003</td>\n",
       "      <td>2.287071</td>\n",
       "      <td>96.029325</td>\n",
       "    </tr>\n",
       "    <tr>\n",
       "      <th>min</th>\n",
       "      <td>1.980010e+07</td>\n",
       "      <td>0.000000</td>\n",
       "      <td>0.000000</td>\n",
       "      <td>0.100000</td>\n",
       "      <td>0.000000</td>\n",
       "    </tr>\n",
       "    <tr>\n",
       "      <th>25%</th>\n",
       "      <td>1.989041e+07</td>\n",
       "      <td>645.000000</td>\n",
       "      <td>70.000000</td>\n",
       "      <td>1.500000</td>\n",
       "      <td>50.000000</td>\n",
       "    </tr>\n",
       "    <tr>\n",
       "      <th>50%</th>\n",
       "      <td>1.996062e+07</td>\n",
       "      <td>1210.000000</td>\n",
       "      <td>210.000000</td>\n",
       "      <td>2.600000</td>\n",
       "      <td>160.000000</td>\n",
       "    </tr>\n",
       "    <tr>\n",
       "      <th>75%</th>\n",
       "      <td>2.007111e+07</td>\n",
       "      <td>1745.000000</td>\n",
       "      <td>280.000000</td>\n",
       "      <td>4.100000</td>\n",
       "      <td>220.000000</td>\n",
       "    </tr>\n",
       "    <tr>\n",
       "      <th>max</th>\n",
       "      <td>2.015090e+07</td>\n",
       "      <td>2355.000000</td>\n",
       "      <td>352.000000</td>\n",
       "      <td>45.800000</td>\n",
       "      <td>350.000000</td>\n",
       "    </tr>\n",
       "  </tbody>\n",
       "</table>\n",
       "</div>"
      ],
      "text/plain": [
       "               date           HrMn            dir          speed  \\\n",
       "count  5.633720e+05  563372.000000  563372.000000  563372.000000   \n",
       "mean   1.997733e+07    1188.271563     181.525656       3.200990   \n",
       "std    1.039022e+05     664.717017     105.099003       2.287071   \n",
       "min    1.980010e+07       0.000000       0.000000       0.100000   \n",
       "25%    1.989041e+07     645.000000      70.000000       1.500000   \n",
       "50%    1.996062e+07    1210.000000     210.000000       2.600000   \n",
       "75%    2.007111e+07    1745.000000     280.000000       4.100000   \n",
       "max    2.015090e+07    2355.000000     352.000000      45.800000   \n",
       "\n",
       "        dir_windrose  \n",
       "count  563372.000000  \n",
       "mean      149.904234  \n",
       "std        96.029325  \n",
       "min         0.000000  \n",
       "25%        50.000000  \n",
       "50%       160.000000  \n",
       "75%       220.000000  \n",
       "max       350.000000  "
      ]
     },
     "execution_count": 4,
     "metadata": {},
     "output_type": "execute_result"
    }
   ],
   "source": [
    "# Turn dir into [0,360), some station are[10,360],some are [0,350]\n",
    "df['dir'] = df['dir'].apply(lambda x: x%360) \n",
    "df['dir_windrose'] = df['dir']\n",
    "# Convert windrose coordianates to Polar Cooridinates \n",
    "df['dir'] = df['dir'].apply(lambda x: (90 - x)%360)\n",
    "df.describe()"
   ]
  },
  {
   "cell_type": "code",
   "execution_count": 5,
   "metadata": {
    "collapsed": false
   },
   "outputs": [
    {
     "name": "stdout",
     "output_type": "stream",
     "text": [
      "True\n"
     ]
    },
    {
     "data": {
      "image/png": "[encoded data removed]",
      "text/plain": [
       "<matplotlib.figure.Figure at 0x10c1ca710>"
      ]
     },
     "metadata": {},
     "output_type": "display_data"
    }
   ],
   "source": [
    "# Detect data stored in knot or m/s\n",
    "## For data stored originally in knot, the data would cluster at 0.1 and 0.9\n",
    "df['decimal'] = df.speed % 1 \n",
    "df.decimal.hist(alpha=0.5, label='m/s', figsize=(4,3))\n",
    "knot_unit = True if len(df.query('decimal >= 0.2'))/len(df) > 0.3 else False\n",
    "\n",
    "# Using unit in knot instead of m/s\n",
    "if knot_unit:\n",
    "    df['speed']=df['speed']*1.943845\n",
    "    df['decimal'] = df.speed % 1 \n",
    "    df.decimal.hist(alpha=0.5,label='knot')\n",
    "    # need more elaboration, some is not near an integer\n",
    "    df['speed']=df['speed'].apply(lambda x: int(round(x)))\n",
    "    plt.legend()\n",
    "\n",
    "print knot_unit"
   ]
  },
  {
   "cell_type": "code",
   "execution_count": 6,
   "metadata": {
    "collapsed": false
   },
   "outputs": [
    {
     "data": {
      "text/plain": [
       "<matplotlib.axes._subplots.AxesSubplot at 0x10acd9c90>"
      ]
     },
     "execution_count": 6,
     "metadata": {},
     "output_type": "execute_result"
    },
    {
     "data": {
      "image/png": "[encoded data removed]",
      "text/plain": [
       "<matplotlib.figure.Figure at 0x10acbcd90>"
      ]
     },
     "metadata": {},
     "output_type": "display_data"
    }
   ],
   "source": [
    "df['speed'].plot(legend=True,figsize=(10,3), grid=True)"
   ]
  },
  {
   "cell_type": "code",
   "execution_count": 7,
   "metadata": {
    "collapsed": false
   },
   "outputs": [
    {
     "data": {
      "image/png": "[encoded data removed]",
      "text/plain": [
       "<matplotlib.figure.Figure at 0x111bf30d0>"
      ]
     },
     "metadata": {},
     "output_type": "display_data"
    }
   ],
   "source": [
    "# Notice the gap of the distributions, so futher process needed, as below\n",
    "plot_speed_and_angle_distribution(df.speed, df.dir)"
   ]
  },
  {
   "cell_type": "markdown",
   "metadata": {},
   "source": [
    "## 1.3 Data Wrangling"
   ]
  },
  {
   "cell_type": "markdown",
   "metadata": {},
   "source": [
    "### 1.3.1 Artefacts handling"
   ]
  },
  {
   "cell_type": "markdown",
   "metadata": {},
   "source": [
    "#### 1.3.1.1 wrong direction record"
   ]
  },
  {
   "cell_type": "code",
   "execution_count": 8,
   "metadata": {
    "collapsed": false
   },
   "outputs": [
    {
     "data": {
      "text/html": [
       "<div>\n",
       "<table border=\"1\" class=\"dataframe\">\n",
       "  <thead>\n",
       "    <tr style=\"text-align: right;\">\n",
       "      <th></th>\n",
       "      <th>date</th>\n",
       "      <th>HrMn</th>\n",
       "      <th>type</th>\n",
       "      <th>dir</th>\n",
       "      <th>speed</th>\n",
       "      <th>dir_windrose</th>\n",
       "      <th>decimal</th>\n",
       "    </tr>\n",
       "    <tr>\n",
       "      <th>date</th>\n",
       "      <th></th>\n",
       "      <th></th>\n",
       "      <th></th>\n",
       "      <th></th>\n",
       "      <th></th>\n",
       "      <th></th>\n",
       "      <th></th>\n",
       "    </tr>\n",
       "  </thead>\n",
       "  <tbody>\n",
       "    <tr>\n",
       "      <th>19920630</th>\n",
       "      <td>19920630</td>\n",
       "      <td>410</td>\n",
       "      <td>FM-15</td>\n",
       "      <td>83</td>\n",
       "      <td>4</td>\n",
       "      <td>7</td>\n",
       "      <td>0.887690</td>\n",
       "    </tr>\n",
       "    <tr>\n",
       "      <th>19920911</th>\n",
       "      <td>19920911</td>\n",
       "      <td>1000</td>\n",
       "      <td>FM-15</td>\n",
       "      <td>42</td>\n",
       "      <td>3</td>\n",
       "      <td>48</td>\n",
       "      <td>0.915768</td>\n",
       "    </tr>\n",
       "    <tr>\n",
       "      <th>19920921</th>\n",
       "      <td>19920921</td>\n",
       "      <td>520</td>\n",
       "      <td>FM-15</td>\n",
       "      <td>2</td>\n",
       "      <td>1</td>\n",
       "      <td>88</td>\n",
       "      <td>0.971923</td>\n",
       "    </tr>\n",
       "    <tr>\n",
       "      <th>19920923</th>\n",
       "      <td>19920923</td>\n",
       "      <td>220</td>\n",
       "      <td>FM-15</td>\n",
       "      <td>42</td>\n",
       "      <td>2</td>\n",
       "      <td>48</td>\n",
       "      <td>0.943845</td>\n",
       "    </tr>\n",
       "    <tr>\n",
       "      <th>19921009</th>\n",
       "      <td>19921009</td>\n",
       "      <td>650</td>\n",
       "      <td>FM-15</td>\n",
       "      <td>245</td>\n",
       "      <td>3</td>\n",
       "      <td>205</td>\n",
       "      <td>0.915768</td>\n",
       "    </tr>\n",
       "    <tr>\n",
       "      <th>19921018</th>\n",
       "      <td>19921018</td>\n",
       "      <td>210</td>\n",
       "      <td>FM-16</td>\n",
       "      <td>225</td>\n",
       "      <td>10</td>\n",
       "      <td>225</td>\n",
       "      <td>0.913609</td>\n",
       "    </tr>\n",
       "    <tr>\n",
       "      <th>19921218</th>\n",
       "      <td>19921218</td>\n",
       "      <td>1910</td>\n",
       "      <td>FM-15</td>\n",
       "      <td>331</td>\n",
       "      <td>3</td>\n",
       "      <td>119</td>\n",
       "      <td>0.915768</td>\n",
       "    </tr>\n",
       "    <tr>\n",
       "      <th>19921219</th>\n",
       "      <td>19921219</td>\n",
       "      <td>420</td>\n",
       "      <td>FM-15</td>\n",
       "      <td>248</td>\n",
       "      <td>5</td>\n",
       "      <td>202</td>\n",
       "      <td>0.859612</td>\n",
       "    </tr>\n",
       "    <tr>\n",
       "      <th>19930201</th>\n",
       "      <td>19930201</td>\n",
       "      <td>1310</td>\n",
       "      <td>FM-15</td>\n",
       "      <td>112</td>\n",
       "      <td>3</td>\n",
       "      <td>338</td>\n",
       "      <td>0.915768</td>\n",
       "    </tr>\n",
       "    <tr>\n",
       "      <th>19930228</th>\n",
       "      <td>19930228</td>\n",
       "      <td>210</td>\n",
       "      <td>FM-16</td>\n",
       "      <td>39</td>\n",
       "      <td>3</td>\n",
       "      <td>51</td>\n",
       "      <td>0.915768</td>\n",
       "    </tr>\n",
       "    <tr>\n",
       "      <th>19930312</th>\n",
       "      <td>19930312</td>\n",
       "      <td>2210</td>\n",
       "      <td>FM-15</td>\n",
       "      <td>309</td>\n",
       "      <td>4</td>\n",
       "      <td>141</td>\n",
       "      <td>0.887690</td>\n",
       "    </tr>\n",
       "    <tr>\n",
       "      <th>19930314</th>\n",
       "      <td>19930314</td>\n",
       "      <td>2320</td>\n",
       "      <td>FM-15</td>\n",
       "      <td>2</td>\n",
       "      <td>2</td>\n",
       "      <td>88</td>\n",
       "      <td>0.943845</td>\n",
       "    </tr>\n",
       "    <tr>\n",
       "      <th>19930316</th>\n",
       "      <td>19930316</td>\n",
       "      <td>120</td>\n",
       "      <td>FM-15</td>\n",
       "      <td>2</td>\n",
       "      <td>2</td>\n",
       "      <td>88</td>\n",
       "      <td>0.943845</td>\n",
       "    </tr>\n",
       "    <tr>\n",
       "      <th>19930316</th>\n",
       "      <td>19930316</td>\n",
       "      <td>210</td>\n",
       "      <td>FM-15</td>\n",
       "      <td>2</td>\n",
       "      <td>2</td>\n",
       "      <td>88</td>\n",
       "      <td>0.943845</td>\n",
       "    </tr>\n",
       "    <tr>\n",
       "      <th>19930321</th>\n",
       "      <td>19930321</td>\n",
       "      <td>610</td>\n",
       "      <td>FM-15</td>\n",
       "      <td>279</td>\n",
       "      <td>2</td>\n",
       "      <td>171</td>\n",
       "      <td>0.943845</td>\n",
       "    </tr>\n",
       "    <tr>\n",
       "      <th>19930331</th>\n",
       "      <td>19930331</td>\n",
       "      <td>10</td>\n",
       "      <td>FM-15</td>\n",
       "      <td>339</td>\n",
       "      <td>6</td>\n",
       "      <td>111</td>\n",
       "      <td>0.831535</td>\n",
       "    </tr>\n",
       "    <tr>\n",
       "      <th>19930409</th>\n",
       "      <td>19930409</td>\n",
       "      <td>950</td>\n",
       "      <td>FM-15</td>\n",
       "      <td>219</td>\n",
       "      <td>3</td>\n",
       "      <td>231</td>\n",
       "      <td>0.915768</td>\n",
       "    </tr>\n",
       "    <tr>\n",
       "      <th>19930411</th>\n",
       "      <td>19930411</td>\n",
       "      <td>1100</td>\n",
       "      <td>FM-15</td>\n",
       "      <td>219</td>\n",
       "      <td>16</td>\n",
       "      <td>231</td>\n",
       "      <td>0.939529</td>\n",
       "    </tr>\n",
       "    <tr>\n",
       "      <th>19930411</th>\n",
       "      <td>19930411</td>\n",
       "      <td>1110</td>\n",
       "      <td>FM-15</td>\n",
       "      <td>219</td>\n",
       "      <td>16</td>\n",
       "      <td>231</td>\n",
       "      <td>0.939529</td>\n",
       "    </tr>\n",
       "    <tr>\n",
       "      <th>19930415</th>\n",
       "      <td>19930415</td>\n",
       "      <td>1410</td>\n",
       "      <td>FM-15</td>\n",
       "      <td>193</td>\n",
       "      <td>11</td>\n",
       "      <td>257</td>\n",
       "      <td>0.885532</td>\n",
       "    </tr>\n",
       "    <tr>\n",
       "      <th>19930416</th>\n",
       "      <td>19930416</td>\n",
       "      <td>1020</td>\n",
       "      <td>FM-15</td>\n",
       "      <td>231</td>\n",
       "      <td>4</td>\n",
       "      <td>219</td>\n",
       "      <td>0.887690</td>\n",
       "    </tr>\n",
       "    <tr>\n",
       "      <th>19930417</th>\n",
       "      <td>19930417</td>\n",
       "      <td>2000</td>\n",
       "      <td>FM-15</td>\n",
       "      <td>244</td>\n",
       "      <td>3</td>\n",
       "      <td>206</td>\n",
       "      <td>0.915768</td>\n",
       "    </tr>\n",
       "    <tr>\n",
       "      <th>19930417</th>\n",
       "      <td>19930417</td>\n",
       "      <td>2010</td>\n",
       "      <td>FM-15</td>\n",
       "      <td>244</td>\n",
       "      <td>3</td>\n",
       "      <td>206</td>\n",
       "      <td>0.915768</td>\n",
       "    </tr>\n",
       "    <tr>\n",
       "      <th>19930420</th>\n",
       "      <td>19930420</td>\n",
       "      <td>300</td>\n",
       "      <td>FM-15</td>\n",
       "      <td>235</td>\n",
       "      <td>1</td>\n",
       "      <td>215</td>\n",
       "      <td>0.971923</td>\n",
       "    </tr>\n",
       "    <tr>\n",
       "      <th>19930420</th>\n",
       "      <td>19930420</td>\n",
       "      <td>420</td>\n",
       "      <td>FM-15</td>\n",
       "      <td>239</td>\n",
       "      <td>4</td>\n",
       "      <td>211</td>\n",
       "      <td>0.887690</td>\n",
       "    </tr>\n",
       "    <tr>\n",
       "      <th>19930503</th>\n",
       "      <td>19930503</td>\n",
       "      <td>750</td>\n",
       "      <td>FM-15</td>\n",
       "      <td>249</td>\n",
       "      <td>4</td>\n",
       "      <td>201</td>\n",
       "      <td>0.887690</td>\n",
       "    </tr>\n",
       "    <tr>\n",
       "      <th>19930504</th>\n",
       "      <td>19930504</td>\n",
       "      <td>1350</td>\n",
       "      <td>FM-15</td>\n",
       "      <td>224</td>\n",
       "      <td>11</td>\n",
       "      <td>226</td>\n",
       "      <td>0.885532</td>\n",
       "    </tr>\n",
       "    <tr>\n",
       "      <th>19930504</th>\n",
       "      <td>19930504</td>\n",
       "      <td>2100</td>\n",
       "      <td>FM-15</td>\n",
       "      <td>232</td>\n",
       "      <td>4</td>\n",
       "      <td>218</td>\n",
       "      <td>0.887690</td>\n",
       "    </tr>\n",
       "    <tr>\n",
       "      <th>19930504</th>\n",
       "      <td>19930504</td>\n",
       "      <td>2110</td>\n",
       "      <td>FM-15</td>\n",
       "      <td>232</td>\n",
       "      <td>4</td>\n",
       "      <td>218</td>\n",
       "      <td>0.887690</td>\n",
       "    </tr>\n",
       "    <tr>\n",
       "      <th>19930511</th>\n",
       "      <td>19930511</td>\n",
       "      <td>2310</td>\n",
       "      <td>FM-15</td>\n",
       "      <td>352</td>\n",
       "      <td>4</td>\n",
       "      <td>98</td>\n",
       "      <td>0.887690</td>\n",
       "    </tr>\n",
       "    <tr>\n",
       "      <th>...</th>\n",
       "      <td>...</td>\n",
       "      <td>...</td>\n",
       "      <td>...</td>\n",
       "      <td>...</td>\n",
       "      <td>...</td>\n",
       "      <td>...</td>\n",
       "      <td>...</td>\n",
       "    </tr>\n",
       "    <tr>\n",
       "      <th>19980318</th>\n",
       "      <td>19980318</td>\n",
       "      <td>2350</td>\n",
       "      <td>FM-15</td>\n",
       "      <td>84</td>\n",
       "      <td>4</td>\n",
       "      <td>6</td>\n",
       "      <td>0.082075</td>\n",
       "    </tr>\n",
       "    <tr>\n",
       "      <th>19980421</th>\n",
       "      <td>19980421</td>\n",
       "      <td>750</td>\n",
       "      <td>FM-15</td>\n",
       "      <td>89</td>\n",
       "      <td>2</td>\n",
       "      <td>1</td>\n",
       "      <td>0.943845</td>\n",
       "    </tr>\n",
       "    <tr>\n",
       "      <th>19980423</th>\n",
       "      <td>19980423</td>\n",
       "      <td>150</td>\n",
       "      <td>FM-15</td>\n",
       "      <td>61</td>\n",
       "      <td>2</td>\n",
       "      <td>29</td>\n",
       "      <td>0.943845</td>\n",
       "    </tr>\n",
       "    <tr>\n",
       "      <th>19980717</th>\n",
       "      <td>19980717</td>\n",
       "      <td>1150</td>\n",
       "      <td>FM-15</td>\n",
       "      <td>232</td>\n",
       "      <td>8</td>\n",
       "      <td>218</td>\n",
       "      <td>0.969764</td>\n",
       "    </tr>\n",
       "    <tr>\n",
       "      <th>19980722</th>\n",
       "      <td>19980722</td>\n",
       "      <td>2150</td>\n",
       "      <td>FM-15</td>\n",
       "      <td>212</td>\n",
       "      <td>2</td>\n",
       "      <td>238</td>\n",
       "      <td>0.943845</td>\n",
       "    </tr>\n",
       "    <tr>\n",
       "      <th>19981013</th>\n",
       "      <td>19981013</td>\n",
       "      <td>1350</td>\n",
       "      <td>FM-15</td>\n",
       "      <td>64</td>\n",
       "      <td>13</td>\n",
       "      <td>26</td>\n",
       "      <td>0.023762</td>\n",
       "    </tr>\n",
       "    <tr>\n",
       "      <th>19981029</th>\n",
       "      <td>19981029</td>\n",
       "      <td>750</td>\n",
       "      <td>FM-15</td>\n",
       "      <td>73</td>\n",
       "      <td>4</td>\n",
       "      <td>17</td>\n",
       "      <td>0.082075</td>\n",
       "    </tr>\n",
       "    <tr>\n",
       "      <th>19981128</th>\n",
       "      <td>19981128</td>\n",
       "      <td>2350</td>\n",
       "      <td>FM-15</td>\n",
       "      <td>86</td>\n",
       "      <td>4</td>\n",
       "      <td>4</td>\n",
       "      <td>0.082075</td>\n",
       "    </tr>\n",
       "    <tr>\n",
       "      <th>19981211</th>\n",
       "      <td>19981211</td>\n",
       "      <td>350</td>\n",
       "      <td>FM-15</td>\n",
       "      <td>85</td>\n",
       "      <td>2</td>\n",
       "      <td>5</td>\n",
       "      <td>0.943845</td>\n",
       "    </tr>\n",
       "    <tr>\n",
       "      <th>19981225</th>\n",
       "      <td>19981225</td>\n",
       "      <td>750</td>\n",
       "      <td>FM-15</td>\n",
       "      <td>67</td>\n",
       "      <td>3</td>\n",
       "      <td>23</td>\n",
       "      <td>0.915768</td>\n",
       "    </tr>\n",
       "    <tr>\n",
       "      <th>19981230</th>\n",
       "      <td>19981230</td>\n",
       "      <td>150</td>\n",
       "      <td>FM-15</td>\n",
       "      <td>61</td>\n",
       "      <td>2</td>\n",
       "      <td>29</td>\n",
       "      <td>0.943845</td>\n",
       "    </tr>\n",
       "    <tr>\n",
       "      <th>19990103</th>\n",
       "      <td>19990103</td>\n",
       "      <td>750</td>\n",
       "      <td>FM-15</td>\n",
       "      <td>14</td>\n",
       "      <td>5</td>\n",
       "      <td>76</td>\n",
       "      <td>0.053997</td>\n",
       "    </tr>\n",
       "    <tr>\n",
       "      <th>19990206</th>\n",
       "      <td>19990206</td>\n",
       "      <td>350</td>\n",
       "      <td>FM-15</td>\n",
       "      <td>69</td>\n",
       "      <td>3</td>\n",
       "      <td>21</td>\n",
       "      <td>0.915768</td>\n",
       "    </tr>\n",
       "    <tr>\n",
       "      <th>19990314</th>\n",
       "      <td>19990314</td>\n",
       "      <td>2150</td>\n",
       "      <td>FM-15</td>\n",
       "      <td>81</td>\n",
       "      <td>1</td>\n",
       "      <td>9</td>\n",
       "      <td>0.971923</td>\n",
       "    </tr>\n",
       "    <tr>\n",
       "      <th>19990329</th>\n",
       "      <td>19990329</td>\n",
       "      <td>2150</td>\n",
       "      <td>FM-15</td>\n",
       "      <td>329</td>\n",
       "      <td>5</td>\n",
       "      <td>121</td>\n",
       "      <td>0.053997</td>\n",
       "    </tr>\n",
       "    <tr>\n",
       "      <th>19990513</th>\n",
       "      <td>19990513</td>\n",
       "      <td>50</td>\n",
       "      <td>FM-15</td>\n",
       "      <td>211</td>\n",
       "      <td>3</td>\n",
       "      <td>239</td>\n",
       "      <td>0.915768</td>\n",
       "    </tr>\n",
       "    <tr>\n",
       "      <th>19990619</th>\n",
       "      <td>19990619</td>\n",
       "      <td>550</td>\n",
       "      <td>FM-15</td>\n",
       "      <td>74</td>\n",
       "      <td>4</td>\n",
       "      <td>16</td>\n",
       "      <td>0.082075</td>\n",
       "    </tr>\n",
       "    <tr>\n",
       "      <th>19990619</th>\n",
       "      <td>19990619</td>\n",
       "      <td>600</td>\n",
       "      <td>FM-15</td>\n",
       "      <td>74</td>\n",
       "      <td>4</td>\n",
       "      <td>16</td>\n",
       "      <td>0.082075</td>\n",
       "    </tr>\n",
       "    <tr>\n",
       "      <th>19990701</th>\n",
       "      <td>19990701</td>\n",
       "      <td>50</td>\n",
       "      <td>FM-15</td>\n",
       "      <td>74</td>\n",
       "      <td>1</td>\n",
       "      <td>16</td>\n",
       "      <td>0.971923</td>\n",
       "    </tr>\n",
       "    <tr>\n",
       "      <th>19990706</th>\n",
       "      <td>19990706</td>\n",
       "      <td>1000</td>\n",
       "      <td>FM-15</td>\n",
       "      <td>74</td>\n",
       "      <td>20</td>\n",
       "      <td>16</td>\n",
       "      <td>0.021604</td>\n",
       "    </tr>\n",
       "    <tr>\n",
       "      <th>19990708</th>\n",
       "      <td>19990708</td>\n",
       "      <td>750</td>\n",
       "      <td>FM-15</td>\n",
       "      <td>87</td>\n",
       "      <td>5</td>\n",
       "      <td>3</td>\n",
       "      <td>0.053997</td>\n",
       "    </tr>\n",
       "    <tr>\n",
       "      <th>19990710</th>\n",
       "      <td>19990710</td>\n",
       "      <td>1800</td>\n",
       "      <td>FM-15</td>\n",
       "      <td>189</td>\n",
       "      <td>10</td>\n",
       "      <td>261</td>\n",
       "      <td>0.913609</td>\n",
       "    </tr>\n",
       "    <tr>\n",
       "      <th>19990713</th>\n",
       "      <td>19990713</td>\n",
       "      <td>1600</td>\n",
       "      <td>FM-15</td>\n",
       "      <td>319</td>\n",
       "      <td>10</td>\n",
       "      <td>131</td>\n",
       "      <td>0.913609</td>\n",
       "    </tr>\n",
       "    <tr>\n",
       "      <th>19990730</th>\n",
       "      <td>19990730</td>\n",
       "      <td>1050</td>\n",
       "      <td>FM-15</td>\n",
       "      <td>84</td>\n",
       "      <td>4</td>\n",
       "      <td>6</td>\n",
       "      <td>0.082075</td>\n",
       "    </tr>\n",
       "    <tr>\n",
       "      <th>19990807</th>\n",
       "      <td>19990807</td>\n",
       "      <td>1450</td>\n",
       "      <td>FM-15</td>\n",
       "      <td>74</td>\n",
       "      <td>14</td>\n",
       "      <td>16</td>\n",
       "      <td>0.995684</td>\n",
       "    </tr>\n",
       "    <tr>\n",
       "      <th>19990815</th>\n",
       "      <td>19990815</td>\n",
       "      <td>1220</td>\n",
       "      <td>FM-15</td>\n",
       "      <td>239</td>\n",
       "      <td>14</td>\n",
       "      <td>211</td>\n",
       "      <td>0.995684</td>\n",
       "    </tr>\n",
       "    <tr>\n",
       "      <th>19990902</th>\n",
       "      <td>19990902</td>\n",
       "      <td>1800</td>\n",
       "      <td>FM-15</td>\n",
       "      <td>265</td>\n",
       "      <td>7</td>\n",
       "      <td>185</td>\n",
       "      <td>0.997842</td>\n",
       "    </tr>\n",
       "    <tr>\n",
       "      <th>19990920</th>\n",
       "      <td>19990920</td>\n",
       "      <td>1400</td>\n",
       "      <td>FM-15</td>\n",
       "      <td>319</td>\n",
       "      <td>21</td>\n",
       "      <td>131</td>\n",
       "      <td>0.993526</td>\n",
       "    </tr>\n",
       "    <tr>\n",
       "      <th>19990929</th>\n",
       "      <td>19990929</td>\n",
       "      <td>1650</td>\n",
       "      <td>FM-15</td>\n",
       "      <td>64</td>\n",
       "      <td>6</td>\n",
       "      <td>26</td>\n",
       "      <td>0.025920</td>\n",
       "    </tr>\n",
       "    <tr>\n",
       "      <th>19991116</th>\n",
       "      <td>19991116</td>\n",
       "      <td>1600</td>\n",
       "      <td>FM-15</td>\n",
       "      <td>252</td>\n",
       "      <td>1</td>\n",
       "      <td>198</td>\n",
       "      <td>0.971923</td>\n",
       "    </tr>\n",
       "  </tbody>\n",
       "</table>\n",
       "<p>126 rows × 7 columns</p>\n",
       "</div>"
      ],
      "text/plain": [
       "              date  HrMn   type  dir  speed  dir_windrose   decimal\n",
       "date                                                               \n",
       "19920630  19920630   410  FM-15   83      4             7  0.887690\n",
       "19920911  19920911  1000  FM-15   42      3            48  0.915768\n",
       "19920921  19920921   520  FM-15    2      1            88  0.971923\n",
       "19920923  19920923   220  FM-15   42      2            48  0.943845\n",
       "19921009  19921009   650  FM-15  245      3           205  0.915768\n",
       "19921018  19921018   210  FM-16  225     10           225  0.913609\n",
       "19921218  19921218  1910  FM-15  331      3           119  0.915768\n",
       "19921219  19921219   420  FM-15  248      5           202  0.859612\n",
       "19930201  19930201  1310  FM-15  112      3           338  0.915768\n",
       "19930228  19930228   210  FM-16   39      3            51  0.915768\n",
       "19930312  19930312  2210  FM-15  309      4           141  0.887690\n",
       "19930314  19930314  2320  FM-15    2      2            88  0.943845\n",
       "19930316  19930316   120  FM-15    2      2            88  0.943845\n",
       "19930316  19930316   210  FM-15    2      2            88  0.943845\n",
       "19930321  19930321   610  FM-15  279      2           171  0.943845\n",
       "19930331  19930331    10  FM-15  339      6           111  0.831535\n",
       "19930409  19930409   950  FM-15  219      3           231  0.915768\n",
       "19930411  19930411  1100  FM-15  219     16           231  0.939529\n",
       "19930411  19930411  1110  FM-15  219     16           231  0.939529\n",
       "19930415  19930415  1410  FM-15  193     11           257  0.885532\n",
       "19930416  19930416  1020  FM-15  231      4           219  0.887690\n",
       "19930417  19930417  2000  FM-15  244      3           206  0.915768\n",
       "19930417  19930417  2010  FM-15  244      3           206  0.915768\n",
       "19930420  19930420   300  FM-15  235      1           215  0.971923\n",
       "19930420  19930420   420  FM-15  239      4           211  0.887690\n",
       "19930503  19930503   750  FM-15  249      4           201  0.887690\n",
       "19930504  19930504  1350  FM-15  224     11           226  0.885532\n",
       "19930504  19930504  2100  FM-15  232      4           218  0.887690\n",
       "19930504  19930504  2110  FM-15  232      4           218  0.887690\n",
       "19930511  19930511  2310  FM-15  352      4            98  0.887690\n",
       "...            ...   ...    ...  ...    ...           ...       ...\n",
       "19980318  19980318  2350  FM-15   84      4             6  0.082075\n",
       "19980421  19980421   750  FM-15   89      2             1  0.943845\n",
       "19980423  19980423   150  FM-15   61      2            29  0.943845\n",
       "19980717  19980717  1150  FM-15  232      8           218  0.969764\n",
       "19980722  19980722  2150  FM-15  212      2           238  0.943845\n",
       "19981013  19981013  1350  FM-15   64     13            26  0.023762\n",
       "19981029  19981029   750  FM-15   73      4            17  0.082075\n",
       "19981128  19981128  2350  FM-15   86      4             4  0.082075\n",
       "19981211  19981211   350  FM-15   85      2             5  0.943845\n",
       "19981225  19981225   750  FM-15   67      3            23  0.915768\n",
       "19981230  19981230   150  FM-15   61      2            29  0.943845\n",
       "19990103  19990103   750  FM-15   14      5            76  0.053997\n",
       "19990206  19990206   350  FM-15   69      3            21  0.915768\n",
       "19990314  19990314  2150  FM-15   81      1             9  0.971923\n",
       "19990329  19990329  2150  FM-15  329      5           121  0.053997\n",
       "19990513  19990513    50  FM-15  211      3           239  0.915768\n",
       "19990619  19990619   550  FM-15   74      4            16  0.082075\n",
       "19990619  19990619   600  FM-15   74      4            16  0.082075\n",
       "19990701  19990701    50  FM-15   74      1            16  0.971923\n",
       "19990706  19990706  1000  FM-15   74     20            16  0.021604\n",
       "19990708  19990708   750  FM-15   87      5             3  0.053997\n",
       "19990710  19990710  1800  FM-15  189     10           261  0.913609\n",
       "19990713  19990713  1600  FM-15  319     10           131  0.913609\n",
       "19990730  19990730  1050  FM-15   84      4             6  0.082075\n",
       "19990807  19990807  1450  FM-15   74     14            16  0.995684\n",
       "19990815  19990815  1220  FM-15  239     14           211  0.995684\n",
       "19990902  19990902  1800  FM-15  265      7           185  0.997842\n",
       "19990920  19990920  1400  FM-15  319     21           131  0.993526\n",
       "19990929  19990929  1650  FM-15   64      6            26  0.025920\n",
       "19991116  19991116  1600  FM-15  252      1           198  0.971923\n",
       "\n",
       "[126 rows x 7 columns]"
      ]
     },
     "metadata": {},
     "output_type": "display_data"
    }
   ],
   "source": [
    "display(df.query('dir % 10 >= 0.1'))\n",
    "df = df.query('dir % 10 <= 0.1')"
   ]
  },
  {
   "cell_type": "markdown",
   "metadata": {},
   "source": [
    "#### 1.3.1.2 sudden increase in speed"
   ]
  },
  {
   "cell_type": "code",
   "execution_count": 9,
   "metadata": {
    "collapsed": false
   },
   "outputs": [
    {
     "data": {
      "text/html": [
       "<div>\n",
       "<table border=\"1\" class=\"dataframe\">\n",
       "  <thead>\n",
       "    <tr style=\"text-align: right;\">\n",
       "      <th></th>\n",
       "      <th>date</th>\n",
       "      <th>HrMn</th>\n",
       "      <th>type</th>\n",
       "      <th>dir</th>\n",
       "      <th>speed</th>\n",
       "      <th>dir_windrose</th>\n",
       "      <th>decimal</th>\n",
       "      <th>incre</th>\n",
       "      <th>incre_reverse</th>\n",
       "    </tr>\n",
       "    <tr>\n",
       "      <th>date</th>\n",
       "      <th></th>\n",
       "      <th></th>\n",
       "      <th></th>\n",
       "      <th></th>\n",
       "      <th></th>\n",
       "      <th></th>\n",
       "      <th></th>\n",
       "      <th></th>\n",
       "      <th></th>\n",
       "    </tr>\n",
       "  </thead>\n",
       "  <tbody>\n",
       "    <tr>\n",
       "      <th>19871130</th>\n",
       "      <td>19871130</td>\n",
       "      <td>1100</td>\n",
       "      <td>FM-15</td>\n",
       "      <td>280</td>\n",
       "      <td>89</td>\n",
       "      <td>170</td>\n",
       "      <td>0.028101</td>\n",
       "      <td>0.0</td>\n",
       "      <td>0.0</td>\n",
       "    </tr>\n",
       "    <tr>\n",
       "      <th>19871130</th>\n",
       "      <td>19871130</td>\n",
       "      <td>1107</td>\n",
       "      <td>FM-15</td>\n",
       "      <td>280</td>\n",
       "      <td>89</td>\n",
       "      <td>170</td>\n",
       "      <td>0.028101</td>\n",
       "      <td>0.0</td>\n",
       "      <td>79.0</td>\n",
       "    </tr>\n",
       "    <tr>\n",
       "      <th>19871130</th>\n",
       "      <td>19871130</td>\n",
       "      <td>1050</td>\n",
       "      <td>FM-15</td>\n",
       "      <td>280</td>\n",
       "      <td>89</td>\n",
       "      <td>170</td>\n",
       "      <td>0.028101</td>\n",
       "      <td>84.0</td>\n",
       "      <td>0.0</td>\n",
       "    </tr>\n",
       "    <tr>\n",
       "      <th>19871129</th>\n",
       "      <td>19871129</td>\n",
       "      <td>2050</td>\n",
       "      <td>FM-15</td>\n",
       "      <td>270</td>\n",
       "      <td>87</td>\n",
       "      <td>180</td>\n",
       "      <td>0.084256</td>\n",
       "      <td>81.0</td>\n",
       "      <td>0.0</td>\n",
       "    </tr>\n",
       "    <tr>\n",
       "      <th>19871129</th>\n",
       "      <td>19871129</td>\n",
       "      <td>2110</td>\n",
       "      <td>FM-15</td>\n",
       "      <td>270</td>\n",
       "      <td>87</td>\n",
       "      <td>180</td>\n",
       "      <td>0.084256</td>\n",
       "      <td>0.0</td>\n",
       "      <td>79.0</td>\n",
       "    </tr>\n",
       "    <tr>\n",
       "      <th>19890706</th>\n",
       "      <td>19890706</td>\n",
       "      <td>907</td>\n",
       "      <td>FM-15</td>\n",
       "      <td>60</td>\n",
       "      <td>82</td>\n",
       "      <td>30</td>\n",
       "      <td>0.030259</td>\n",
       "      <td>0.0</td>\n",
       "      <td>80.0</td>\n",
       "    </tr>\n",
       "    <tr>\n",
       "      <th>19890706</th>\n",
       "      <td>19890706</td>\n",
       "      <td>850</td>\n",
       "      <td>FM-15</td>\n",
       "      <td>60</td>\n",
       "      <td>82</td>\n",
       "      <td>30</td>\n",
       "      <td>0.030259</td>\n",
       "      <td>80.0</td>\n",
       "      <td>0.0</td>\n",
       "    </tr>\n",
       "    <tr>\n",
       "      <th>20011111</th>\n",
       "      <td>20011111</td>\n",
       "      <td>1800</td>\n",
       "      <td>FM-12</td>\n",
       "      <td>320</td>\n",
       "      <td>58</td>\n",
       "      <td>130</td>\n",
       "      <td>0.315350</td>\n",
       "      <td>28.0</td>\n",
       "      <td>34.0</td>\n",
       "    </tr>\n",
       "    <tr>\n",
       "      <th>20010308</th>\n",
       "      <td>20010308</td>\n",
       "      <td>1800</td>\n",
       "      <td>FM-12</td>\n",
       "      <td>300</td>\n",
       "      <td>56</td>\n",
       "      <td>150</td>\n",
       "      <td>0.371505</td>\n",
       "      <td>27.0</td>\n",
       "      <td>33.0</td>\n",
       "    </tr>\n",
       "    <tr>\n",
       "      <th>20010303</th>\n",
       "      <td>20010303</td>\n",
       "      <td>600</td>\n",
       "      <td>FM-12</td>\n",
       "      <td>300</td>\n",
       "      <td>56</td>\n",
       "      <td>150</td>\n",
       "      <td>0.371505</td>\n",
       "      <td>27.0</td>\n",
       "      <td>26.0</td>\n",
       "    </tr>\n",
       "  </tbody>\n",
       "</table>\n",
       "</div>"
      ],
      "text/plain": [
       "              date  HrMn   type  dir  speed  dir_windrose   decimal  incre  \\\n",
       "date                                                                         \n",
       "19871130  19871130  1100  FM-15  280     89           170  0.028101    0.0   \n",
       "19871130  19871130  1107  FM-15  280     89           170  0.028101    0.0   \n",
       "19871130  19871130  1050  FM-15  280     89           170  0.028101   84.0   \n",
       "19871129  19871129  2050  FM-15  270     87           180  0.084256   81.0   \n",
       "19871129  19871129  2110  FM-15  270     87           180  0.084256    0.0   \n",
       "19890706  19890706   907  FM-15   60     82            30  0.030259    0.0   \n",
       "19890706  19890706   850  FM-15   60     82            30  0.030259   80.0   \n",
       "20011111  20011111  1800  FM-12  320     58           130  0.315350   28.0   \n",
       "20010308  20010308  1800  FM-12  300     56           150  0.371505   27.0   \n",
       "20010303  20010303   600  FM-12  300     56           150  0.371505   27.0   \n",
       "\n",
       "          incre_reverse  \n",
       "date                     \n",
       "19871130            0.0  \n",
       "19871130           79.0  \n",
       "19871130            0.0  \n",
       "19871129            0.0  \n",
       "19871129           79.0  \n",
       "19890706           80.0  \n",
       "19890706            0.0  \n",
       "20011111           34.0  \n",
       "20010308           33.0  \n",
       "20010303           26.0  "
      ]
     },
     "metadata": {},
     "output_type": "display_data"
    },
    {
     "data": {
      "text/plain": [
       "<matplotlib.axes._subplots.AxesSubplot at 0x10be0d450>"
      ]
     },
     "execution_count": 9,
     "metadata": {},
     "output_type": "execute_result"
    },
    {
     "data": {
      "image/png": "[encoded data removed]",
      "text/plain": [
       "<matplotlib.figure.Figure at 0x111fbe250>"
      ]
     },
     "metadata": {},
     "output_type": "display_data"
    }
   ],
   "source": [
    "# sudden increse\n",
    "df['incre'] = df.speed.diff(1)\n",
    "df['incre'].fillna(0, inplace=True)\n",
    "df['incre_reverse'] = df.speed.diff(-1)\n",
    "df['incre_reverse'].fillna(0, inplace=True)\n",
    "\n",
    "display(df.sort_values(by='speed',ascending=False).head(10))\n",
    "df['incre'].plot(kind='hist', bins=arange(-15, 15), legend=True)"
   ]
  },
  {
   "cell_type": "code",
   "execution_count": 10,
   "metadata": {
    "collapsed": false
   },
   "outputs": [
    {
     "name": "stdout",
     "output_type": "stream",
     "text": [
      "sudden increase number 46\n"
     ]
    }
   ],
   "source": [
    "incre_threshold = 20 if knot_unit else 10\n",
    "print 'sudden increase number', len(df.query('(incre > @incre_threshold )&(incre_reverse > @incre_threshold )'))\n",
    "df = df.query('(incre < @incre_threshold )|(incre_reverse < @incre_threshold )')"
   ]
  },
  {
   "cell_type": "markdown",
   "metadata": {},
   "source": [
    "After Simple Aretefacts Handling"
   ]
  },
  {
   "cell_type": "code",
   "execution_count": 11,
   "metadata": {
    "collapsed": false
   },
   "outputs": [
    {
     "data": {
      "text/html": [
       "<div>\n",
       "<table border=\"1\" class=\"dataframe\">\n",
       "  <thead>\n",
       "    <tr style=\"text-align: right;\">\n",
       "      <th></th>\n",
       "      <th>date</th>\n",
       "      <th>HrMn</th>\n",
       "      <th>type</th>\n",
       "      <th>dir</th>\n",
       "      <th>speed</th>\n",
       "      <th>dir_windrose</th>\n",
       "      <th>decimal</th>\n",
       "      <th>incre</th>\n",
       "      <th>incre_reverse</th>\n",
       "    </tr>\n",
       "    <tr>\n",
       "      <th>date</th>\n",
       "      <th></th>\n",
       "      <th></th>\n",
       "      <th></th>\n",
       "      <th></th>\n",
       "      <th></th>\n",
       "      <th></th>\n",
       "      <th></th>\n",
       "      <th></th>\n",
       "      <th></th>\n",
       "    </tr>\n",
       "  </thead>\n",
       "  <tbody>\n",
       "    <tr>\n",
       "      <th>19871130</th>\n",
       "      <td>19871130</td>\n",
       "      <td>1100</td>\n",
       "      <td>FM-15</td>\n",
       "      <td>280</td>\n",
       "      <td>89</td>\n",
       "      <td>170</td>\n",
       "      <td>0.028101</td>\n",
       "      <td>0.0</td>\n",
       "      <td>0.0</td>\n",
       "    </tr>\n",
       "    <tr>\n",
       "      <th>19871130</th>\n",
       "      <td>19871130</td>\n",
       "      <td>1107</td>\n",
       "      <td>FM-15</td>\n",
       "      <td>280</td>\n",
       "      <td>89</td>\n",
       "      <td>170</td>\n",
       "      <td>0.028101</td>\n",
       "      <td>0.0</td>\n",
       "      <td>79.0</td>\n",
       "    </tr>\n",
       "    <tr>\n",
       "      <th>19871130</th>\n",
       "      <td>19871130</td>\n",
       "      <td>1050</td>\n",
       "      <td>FM-15</td>\n",
       "      <td>280</td>\n",
       "      <td>89</td>\n",
       "      <td>170</td>\n",
       "      <td>0.028101</td>\n",
       "      <td>84.0</td>\n",
       "      <td>0.0</td>\n",
       "    </tr>\n",
       "    <tr>\n",
       "      <th>19871129</th>\n",
       "      <td>19871129</td>\n",
       "      <td>2050</td>\n",
       "      <td>FM-15</td>\n",
       "      <td>270</td>\n",
       "      <td>87</td>\n",
       "      <td>180</td>\n",
       "      <td>0.084256</td>\n",
       "      <td>81.0</td>\n",
       "      <td>0.0</td>\n",
       "    </tr>\n",
       "    <tr>\n",
       "      <th>19871129</th>\n",
       "      <td>19871129</td>\n",
       "      <td>2110</td>\n",
       "      <td>FM-15</td>\n",
       "      <td>270</td>\n",
       "      <td>87</td>\n",
       "      <td>180</td>\n",
       "      <td>0.084256</td>\n",
       "      <td>0.0</td>\n",
       "      <td>79.0</td>\n",
       "    </tr>\n",
       "    <tr>\n",
       "      <th>19890706</th>\n",
       "      <td>19890706</td>\n",
       "      <td>907</td>\n",
       "      <td>FM-15</td>\n",
       "      <td>60</td>\n",
       "      <td>82</td>\n",
       "      <td>30</td>\n",
       "      <td>0.030259</td>\n",
       "      <td>0.0</td>\n",
       "      <td>80.0</td>\n",
       "    </tr>\n",
       "    <tr>\n",
       "      <th>19890706</th>\n",
       "      <td>19890706</td>\n",
       "      <td>850</td>\n",
       "      <td>FM-15</td>\n",
       "      <td>60</td>\n",
       "      <td>82</td>\n",
       "      <td>30</td>\n",
       "      <td>0.030259</td>\n",
       "      <td>80.0</td>\n",
       "      <td>0.0</td>\n",
       "    </tr>\n",
       "    <tr>\n",
       "      <th>20090220</th>\n",
       "      <td>20090220</td>\n",
       "      <td>1145</td>\n",
       "      <td>FM-15</td>\n",
       "      <td>90</td>\n",
       "      <td>50</td>\n",
       "      <td>0</td>\n",
       "      <td>0.956817</td>\n",
       "      <td>42.0</td>\n",
       "      <td>0.0</td>\n",
       "    </tr>\n",
       "    <tr>\n",
       "      <th>20090220</th>\n",
       "      <td>20090220</td>\n",
       "      <td>1200</td>\n",
       "      <td>FM-12</td>\n",
       "      <td>90</td>\n",
       "      <td>50</td>\n",
       "      <td>0</td>\n",
       "      <td>0.956817</td>\n",
       "      <td>0.0</td>\n",
       "      <td>42.0</td>\n",
       "    </tr>\n",
       "    <tr>\n",
       "      <th>20011111</th>\n",
       "      <td>20011111</td>\n",
       "      <td>1200</td>\n",
       "      <td>FM-12</td>\n",
       "      <td>310</td>\n",
       "      <td>45</td>\n",
       "      <td>140</td>\n",
       "      <td>0.708435</td>\n",
       "      <td>22.0</td>\n",
       "      <td>19.0</td>\n",
       "    </tr>\n",
       "  </tbody>\n",
       "</table>\n",
       "</div>"
      ],
      "text/plain": [
       "              date  HrMn   type  dir  speed  dir_windrose   decimal  incre  \\\n",
       "date                                                                         \n",
       "19871130  19871130  1100  FM-15  280     89           170  0.028101    0.0   \n",
       "19871130  19871130  1107  FM-15  280     89           170  0.028101    0.0   \n",
       "19871130  19871130  1050  FM-15  280     89           170  0.028101   84.0   \n",
       "19871129  19871129  2050  FM-15  270     87           180  0.084256   81.0   \n",
       "19871129  19871129  2110  FM-15  270     87           180  0.084256    0.0   \n",
       "19890706  19890706   907  FM-15   60     82            30  0.030259    0.0   \n",
       "19890706  19890706   850  FM-15   60     82            30  0.030259   80.0   \n",
       "20090220  20090220  1145  FM-15   90     50             0  0.956817   42.0   \n",
       "20090220  20090220  1200  FM-12   90     50             0  0.956817    0.0   \n",
       "20011111  20011111  1200  FM-12  310     45           140  0.708435   22.0   \n",
       "\n",
       "          incre_reverse  \n",
       "date                     \n",
       "19871130            0.0  \n",
       "19871130           79.0  \n",
       "19871130            0.0  \n",
       "19871129            0.0  \n",
       "19871129           79.0  \n",
       "19890706           80.0  \n",
       "19890706            0.0  \n",
       "20090220            0.0  \n",
       "20090220           42.0  \n",
       "20011111           19.0  "
      ]
     },
     "execution_count": 11,
     "metadata": {},
     "output_type": "execute_result"
    }
   ],
   "source": [
    "# Check the max speed\n",
    "df.sort_values(by='speed',ascending=False).head(10)"
   ]
  },
  {
   "cell_type": "markdown",
   "metadata": {},
   "source": [
    "#### 1.3.1.3 re-distribute angle, for un-evenly sectored data\n",
    "For some dataset, the 16 sectors are not record properly,\n",
    "\n",
    "e.g. the sectors are [0,20,30,50], need to redistribute the angle into 22.5"
   ]
  },
  {
   "cell_type": "code",
   "execution_count": 12,
   "metadata": {
    "collapsed": false,
    "scrolled": false
   },
   "outputs": [
    {
     "data": {
      "text/plain": [
       "0       8452\n",
       "10      7329\n",
       "20      8929\n",
       "30     15173\n",
       "40     22347\n",
       "50     29517\n",
       "60     30941\n",
       "70     26631\n",
       "80     20007\n",
       "90     16161\n",
       "100    11696\n",
       "110    10522\n",
       "120     8562\n",
       "130     5951\n",
       "140     4626\n",
       "150     4475\n",
       "160     4439\n",
       "170     6154\n",
       "180    10064\n",
       "190    11424\n",
       "200    11836\n",
       "210    15912\n",
       "220    19292\n",
       "230    20374\n",
       "240    21877\n",
       "250    19955\n",
       "260    19903\n",
       "270    26345\n",
       "280    28052\n",
       "290    30025\n",
       "300    27316\n",
       "310    17518\n",
       "320    10802\n",
       "330    10648\n",
       "340    10614\n",
       "350     9323\n",
       "Name: dir, dtype: int64"
      ]
     },
     "execution_count": 12,
     "metadata": {},
     "output_type": "execute_result"
    }
   ],
   "source": [
    "df['dir'].value_counts().sort_index()"
   ]
  },
  {
   "cell_type": "code",
   "execution_count": 13,
   "metadata": {
    "collapsed": false,
    "scrolled": true
   },
   "outputs": [
    {
     "name": "stdout",
     "output_type": "stream",
     "text": [
      "36 10.0\n"
     ]
    }
   ],
   "source": [
    "effective_coloumn = df['dir'].value_counts()[df['dir'].value_counts() > 30].sort_index()\n",
    "\n",
    "if len(effective_coloumn) == 16:\n",
    "    # For some dataset, the angle is not evenly distributed, so there is a need to redistribute\n",
    "    original_angle = list(effective_coloumn.sort_index().index)\n",
    "    redistributed_angle = linspace(0,360,num=17)[:-1]\n",
    "    df['dir'].replace(to_replace=original_angle, value=redistributed_angle, inplace=True)\n",
    "    display(df['dir'].value_counts().sort_index())\n",
    "\n",
    "SECTOR_LENGTH = 360/len(effective_coloumn)\n",
    "print len(effective_coloumn), SECTOR_LENGTH"
   ]
  },
  {
   "cell_type": "markdown",
   "metadata": {},
   "source": [
    "### 1.3.2 Sampling Type Selection"
   ]
  },
  {
   "cell_type": "code",
   "execution_count": 14,
   "metadata": {
    "collapsed": false
   },
   "outputs": [
    {
     "data": {
      "image/png": "[encoded data removed]",
      "text/plain": [
       "<matplotlib.figure.Figure at 0x105c1e810>"
      ]
     },
     "metadata": {},
     "output_type": "display_data"
    }
   ],
   "source": [
    "sample_type = df.query('date > 20000000')['type']\n",
    "sample_type.value_counts().plot(\n",
    "    kind = 'bar', title = 'Report Types Comprisement')\n",
    "\n",
    "report_type_most_used = sample_type.value_counts().argmax()\n",
    "df = df.query(\"type==@report_type_most_used\")"
   ]
  },
  {
   "cell_type": "markdown",
   "metadata": {},
   "source": [
    "### 1.3.3 Sampling Time Selection"
   ]
  },
  {
   "cell_type": "code",
   "execution_count": 15,
   "metadata": {
    "collapsed": false
   },
   "outputs": [
    {
     "data": {
      "image/png": "[encoded data removed]",
      "text/plain": [
       "<matplotlib.figure.Figure at 0x10c17ecd0>"
      ]
     },
     "metadata": {},
     "output_type": "display_data"
    }
   ],
   "source": [
    "df['sample_time'] = df.HrMn % 100 \n",
    "sample_time = df.query('date > 20000000')['sample_time']\n",
    "sample_time.value_counts().plot(\n",
    "    kind = 'bar', title = 'sampling time distribution')\n",
    "\n",
    "sampling_time_most_used = sample_time.value_counts().argmax()\n",
    "df = df.query(\"sample_time==@sampling_time_most_used\")\n",
    "df.drop(['sample_time'], 1,inplace=True)"
   ]
  },
  {
   "cell_type": "code",
   "execution_count": 16,
   "metadata": {
    "collapsed": false
   },
   "outputs": [
    {
     "data": {
      "text/plain": [
       "45      3832\n",
       "145     3803\n",
       "245     3876\n",
       "345     3899\n",
       "445     4002\n",
       "545     3665\n",
       "645     4209\n",
       "745     4342\n",
       "845     4431\n",
       "945     4480\n",
       "1045    4502\n",
       "1145    4531\n",
       "1245    4507\n",
       "1345    4529\n",
       "1445    4505\n",
       "1545    4447\n",
       "1645    4423\n",
       "1745    4386\n",
       "1845    4325\n",
       "1945    4233\n",
       "2045    4084\n",
       "2145    3863\n",
       "2245    3947\n",
       "2345    3830\n",
       "Name: HrMn, dtype: int64"
      ]
     },
     "execution_count": 16,
     "metadata": {},
     "output_type": "execute_result"
    }
   ],
   "source": [
    "df['HrMn'].value_counts().sort_index()"
   ]
  },
  {
   "cell_type": "code",
   "execution_count": 17,
   "metadata": {
    "collapsed": false
   },
   "outputs": [
    {
     "data": {
      "text/plain": [
       "<matplotlib.legend.Legend at 0x10c6a9290>"
      ]
     },
     "execution_count": 17,
     "metadata": {},
     "output_type": "execute_result"
    },
    {
     "data": {
      "image/png": "[encoded data removed]",
      "text/plain": [
       "<matplotlib.figure.Figure at 0x10c0df110>"
      ]
     },
     "metadata": {},
     "output_type": "display_data"
    }
   ],
   "source": [
    "MID_YEAR = int(((min(df.date)+max(df.date))/2 )/10000)\n",
    "# Ensure data sampled equally\n",
    "bins=arange(min(df.HrMn), max(df.HrMn) + 100, 50)\n",
    "\n",
    "df['HrMn'].plot(\n",
    "    kind='hist', alpha=0.5,figsize=(15, 4),bins=bins, label='Overall')\n",
    "\n",
    "df.query('date > @MID_YEAR * 10000')['HrMn'].plot(\n",
    "    kind='hist', alpha=0.5,figsize=(15, 4),bins=bins, label='> %s' %  MID_YEAR )\n",
    "\n",
    "plt.suptitle('Sampling Time Distribution, Overall and > %s ' %  MID_YEAR, fontsize = 20)\n",
    "plt.legend()"
   ]
  },
  {
   "cell_type": "markdown",
   "metadata": {},
   "source": [
    "### 1.3.4 Re-distribute Direction and Speed\n",
    "e.g. Dir 50 -> -45 ~ 55, to make KDE result better"
   ]
  },
  {
   "cell_type": "code",
   "execution_count": 18,
   "metadata": {
    "collapsed": false
   },
   "outputs": [],
   "source": [
    "DIR_REDISTRIBUTE = 'even'\n",
    "if DIR_REDISTRIBUTE == 'even':\n",
    "    DIR_BIN = arange(-5, 360, 10) \n",
    "elif DIR_REDISTRIBUTE == 'round_up':\n",
    "    DIR_BIN = arange(0, 360+10, 10) \n",
    "\n",
    "def randomize_angle(df, sector_length = 10):\n",
    "    if DIR_REDISTRIBUTE == 'even':\n",
    "        df['dir_ran'] = df['dir'].apply(lambda x: (x + np.random.uniform(-sector_length/2,sector_length/2)))\n",
    "    else:\n",
    "        df['dir_ran'] = df['dir'].apply(lambda x: (x + np.random.uniform(0,sector_length)))\n",
    "\n",
    "    bins=arange(0, 360+10, 5)\n",
    "    df['dir'].hist(bins=bins, alpha=0.5)\n",
    "    bins=arange(0, 360+10, 1)\n",
    "    df['dir_ran'].hist(bins=bins, alpha=0.5,figsize=(15, 4))\n",
    "    \n",
    "    df['dir']=df['dir_ran']\n",
    "    df.drop(['dir_ran'], 1,inplace=True)\n",
    "    return df"
   ]
  },
  {
   "cell_type": "code",
   "execution_count": 19,
   "metadata": {
    "collapsed": false
   },
   "outputs": [
    {
     "data": {
      "image/png": "[encoded data removed]",
      "text/plain": [
       "<matplotlib.figure.Figure at 0x10c0dfe50>"
      ]
     },
     "metadata": {},
     "output_type": "display_data"
    }
   ],
   "source": [
    "# Randomize the angle degree, to form a better KDE estimation\n",
    "df = randomize_angle(df, SECTOR_LENGTH)"
   ]
  },
  {
   "cell_type": "code",
   "execution_count": 20,
   "metadata": {
    "collapsed": true
   },
   "outputs": [],
   "source": [
    "def randomize_speed(df):\n",
    "    # Round down speed, need more caution\n",
    "    df['speed_ran'] = df['speed'].apply(lambda x: (x + np.random.uniform(-1,0)) if x > 0 else x)\n",
    "    \n",
    "    max_speed = df.speed.max()\n",
    "    df['speed'].hist(bins=arange(0, max_speed), alpha=0.5)\n",
    "    df['speed_ran'].hist(bins=arange(0, max_speed, 0.5), alpha=0.5,figsize=(15, 4))\n",
    "    \n",
    "    df['speed']=df['speed_ran']\n",
    "    df.drop(['speed_ran'], 1,inplace=True)\n",
    "    return df"
   ]
  },
  {
   "cell_type": "code",
   "execution_count": 21,
   "metadata": {
    "collapsed": false
   },
   "outputs": [
    {
     "data": {
      "image/png": "[encoded data removed]",
      "text/plain": [
       "<matplotlib.figure.Figure at 0x10c799d50>"
      ]
     },
     "metadata": {},
     "output_type": "display_data"
    }
   ],
   "source": [
    "# Each original cell is split between the value, # so the peak is shift left\n",
    "# e.g. 2 -> (1.5,2), (2,2.5); or 3 -> (2,3)\n",
    "df = randomize_speed(df)"
   ]
  },
  {
   "cell_type": "markdown",
   "metadata": {},
   "source": [
    "### 1.3.5 Generate (x,y) from (speed,dir)"
   ]
  },
  {
   "cell_type": "code",
   "execution_count": 22,
   "metadata": {
    "collapsed": false,
    "scrolled": false
   },
   "outputs": [
    {
     "data": {
      "text/plain": [
       "<matplotlib.axes._subplots.AxesSubplot at 0x1103577d0>"
      ]
     },
     "execution_count": 22,
     "metadata": {},
     "output_type": "execute_result"
    },
    {
     "data": {
      "image/png": "[encoded data removed]",
      "text/plain": [
       "<matplotlib.figure.Figure at 0x110365d10>"
      ]
     },
     "metadata": {},
     "output_type": "display_data"
    }
   ],
   "source": [
    "df['x'] = df['speed'] * cos(df['dir'] * pi / 180.0)\n",
    "df['y'] = df['speed'] * sin(df['dir'] * pi / 180.0)\n",
    "fig, ax = plt.subplots(figsize=(8, 8), dpi=80)\n",
    "ax.set_aspect('equal')\n",
    "df.plot(kind='scatter', x='x', y='y', alpha=0.35, ax=ax)"
   ]
  },
  {
   "cell_type": "markdown",
   "metadata": {},
   "source": [
    "## 1.4 Time Shift Comparison"
   ]
  },
  {
   "cell_type": "code",
   "execution_count": 23,
   "metadata": {
    "collapsed": false
   },
   "outputs": [
    {
     "data": {
      "text/plain": [
       "<matplotlib.legend.Legend at 0x1109ced90>"
      ]
     },
     "execution_count": 23,
     "metadata": {},
     "output_type": "execute_result"
    },
    {
     "data": {
      "image/png": "[encoded data removed]",
      "text/plain": [
       "<matplotlib.figure.Figure at 0x110b37a90>"
      ]
     },
     "metadata": {},
     "output_type": "display_data"
    }
   ],
   "source": [
    "# Comparison between mid_year, looking for: \n",
    "# 1. Odd Even Bias\n",
    "# 2. Time Shift of Wind Speed Distribution\n",
    "bins = arange(0, max(df.speed) + 1)\n",
    "df.query('date < @MID_YEAR * 10000')['speed'].plot(\n",
    "    kind='hist', alpha=0.5,figsize=(15, 4),bins=bins, label='< %s' % MID_YEAR)\n",
    "\n",
    "df.query('date > @MID_YEAR * 10000')['speed'].plot(\n",
    "    kind='hist', alpha=0.5,figsize=(15, 4),bins=bins, label='> %s' % MID_YEAR)\n",
    "\n",
    "plt.xlabel(\"Speed\")\n",
    "plt.suptitle('Speed Comparison between year < %s, > %s ' % (MID_YEAR, MID_YEAR), fontsize = 20)\n",
    "plt.legend()"
   ]
  },
  {
   "cell_type": "code",
   "execution_count": 24,
   "metadata": {
    "collapsed": false
   },
   "outputs": [
    {
     "data": {
      "text/plain": [
       "<matplotlib.legend.Legend at 0x110b41c10>"
      ]
     },
     "execution_count": 24,
     "metadata": {},
     "output_type": "execute_result"
    },
    {
     "data": {
      "image/png": "[encoded data removed]",
      "text/plain": [
       "<matplotlib.figure.Figure at 0x110d73b50>"
      ]
     },
     "metadata": {},
     "output_type": "display_data"
    }
   ],
   "source": [
    "df.query('date < @MID_YEAR * 10000')['dir'].plot(\n",
    "    kind='hist', alpha=0.5,bins=DIR_BIN, label='< %s' % MID_YEAR)\n",
    "\n",
    "df.query('date > @MID_YEAR * 10000')['dir'].plot(\n",
    "    kind='hist', alpha=0.5,figsize=(15, 4),bins=DIR_BIN, label='> %s' % MID_YEAR)\n",
    "\n",
    "plt.xlabel(\"Dir\")\n",
    "plt.suptitle('Dir Comparison between year < %s, and > %s ' % (MID_YEAR, MID_YEAR), fontsize = 20)\n",
    "plt.axis('tight')\n",
    "plt.legend()"
   ]
  },
  {
   "cell_type": "code",
   "execution_count": 25,
   "metadata": {
    "collapsed": false
   },
   "outputs": [
    {
     "data": {
      "image/png": "[encoded data removed]",
      "text/plain": [
       "<matplotlib.figure.Figure at 0x11206bfd0>"
      ]
     },
     "metadata": {},
     "output_type": "display_data"
    },
    {
     "data": {
      "image/png": "[encoded data removed]",
      "text/plain": [
       "<matplotlib.figure.Figure at 0x11206b950>"
      ]
     },
     "metadata": {},
     "output_type": "display_data"
    },
    {
     "data": {
      "image/png": "[encoded data removed]",
      "text/plain": [
       "<matplotlib.figure.Figure at 0x11205dc10>"
      ]
     },
     "metadata": {},
     "output_type": "display_data"
    },
    {
     "data": {
      "image/png": "[encoded data removed]",
      "text/plain": [
       "<matplotlib.figure.Figure at 0x10c7ba810>"
      ]
     },
     "metadata": {},
     "output_type": "display_data"
    },
    {
     "data": {
      "image/png": "[encoded data removed]",
      "text/plain": [
       "<matplotlib.figure.Figure at 0x110150750>"
      ]
     },
     "metadata": {},
     "output_type": "display_data"
    },
    {
     "data": {
      "image/png": "[encoded data removed]",
      "text/plain": [
       "<matplotlib.figure.Figure at 0x10bc71d50>"
      ]
     },
     "metadata": {},
     "output_type": "display_data"
    }
   ],
   "source": [
    "# Inspect the time shift of speed and degree distribution, and odd-even bias\n",
    "def check_time_shift(df):\n",
    "    for start_time in xrange(19850000, 20150000, 50000):\n",
    "        end_time = start_time + 50000 \n",
    "        sub_df = df.query('(date >= @start_time) & (date < @end_time)')\n",
    "        if len(sub_df) > 0 :\n",
    "            title = '%s - %s' %(start_time, end_time-10000)\n",
    "            plot_speed_and_angle_distribution(sub_df.speed, sub_df.dir, title)\n",
    "        \n",
    "check_time_shift(df)"
   ]
  },
  {
   "cell_type": "markdown",
   "metadata": {},
   "source": [
    "## 1.5 Re-select data, and overview of the clean dataset"
   ]
  },
  {
   "cell_type": "code",
   "execution_count": 26,
   "metadata": {
    "collapsed": false
   },
   "outputs": [
    {
     "name": "stdout",
     "output_type": "stream",
     "text": [
      "incre_threshold for artefact detect: 20\n",
      "Report type used: FM-15\n",
      "Sampling time used: 45\n"
     ]
    },
    {
     "data": {
      "text/html": [
       "<div>\n",
       "<table border=\"1\" class=\"dataframe\">\n",
       "  <thead>\n",
       "    <tr style=\"text-align: right;\">\n",
       "      <th></th>\n",
       "      <th>date</th>\n",
       "      <th>HrMn</th>\n",
       "      <th>dir</th>\n",
       "      <th>speed</th>\n",
       "      <th>dir_windrose</th>\n",
       "      <th>decimal</th>\n",
       "      <th>incre</th>\n",
       "      <th>incre_reverse</th>\n",
       "      <th>x</th>\n",
       "      <th>y</th>\n",
       "    </tr>\n",
       "  </thead>\n",
       "  <tbody>\n",
       "    <tr>\n",
       "      <th>count</th>\n",
       "      <td>3.928700e+04</td>\n",
       "      <td>39287.000000</td>\n",
       "      <td>39287.000000</td>\n",
       "      <td>39287.000000</td>\n",
       "      <td>39287.000000</td>\n",
       "      <td>39287.000000</td>\n",
       "      <td>39287.000000</td>\n",
       "      <td>39287.000000</td>\n",
       "      <td>39287.000000</td>\n",
       "      <td>39287.000000</td>\n",
       "    </tr>\n",
       "    <tr>\n",
       "      <th>mean</th>\n",
       "      <td>2.012018e+07</td>\n",
       "      <td>1205.500929</td>\n",
       "      <td>181.161121</td>\n",
       "      <td>4.819304</td>\n",
       "      <td>151.418281</td>\n",
       "      <td>0.616794</td>\n",
       "      <td>-0.016443</td>\n",
       "      <td>-0.012523</td>\n",
       "      <td>0.235261</td>\n",
       "      <td>-1.312414</td>\n",
       "    </tr>\n",
       "    <tr>\n",
       "      <th>std</th>\n",
       "      <td>1.395708e+04</td>\n",
       "      <td>676.371287</td>\n",
       "      <td>105.239478</td>\n",
       "      <td>3.836278</td>\n",
       "      <td>98.099200</td>\n",
       "      <td>0.431162</td>\n",
       "      <td>1.836072</td>\n",
       "      <td>1.538786</td>\n",
       "      <td>3.525259</td>\n",
       "      <td>4.872170</td>\n",
       "    </tr>\n",
       "    <tr>\n",
       "      <th>min</th>\n",
       "      <td>2.010010e+07</td>\n",
       "      <td>45.000000</td>\n",
       "      <td>-4.992989</td>\n",
       "      <td>0.000811</td>\n",
       "      <td>0.000000</td>\n",
       "      <td>0.019445</td>\n",
       "      <td>-34.000000</td>\n",
       "      <td>-42.000000</td>\n",
       "      <td>-17.035468</td>\n",
       "      <td>-27.846925</td>\n",
       "    </tr>\n",
       "    <tr>\n",
       "      <th>25%</th>\n",
       "      <td>2.011033e+07</td>\n",
       "      <td>645.000000</td>\n",
       "      <td>74.483611</td>\n",
       "      <td>2.033029</td>\n",
       "      <td>50.000000</td>\n",
       "      <td>0.082075</td>\n",
       "      <td>-1.000000</td>\n",
       "      <td>0.000000</td>\n",
       "      <td>-1.410136</td>\n",
       "      <td>-4.020846</td>\n",
       "    </tr>\n",
       "    <tr>\n",
       "      <th>50%</th>\n",
       "      <td>2.012061e+07</td>\n",
       "      <td>1245.000000</td>\n",
       "      <td>207.349409</td>\n",
       "      <td>3.817695</td>\n",
       "      <td>160.000000</td>\n",
       "      <td>0.915768</td>\n",
       "      <td>0.000000</td>\n",
       "      <td>0.000000</td>\n",
       "      <td>0.406285</td>\n",
       "      <td>-0.522773</td>\n",
       "    </tr>\n",
       "    <tr>\n",
       "      <th>75%</th>\n",
       "      <td>2.013082e+07</td>\n",
       "      <td>1745.000000</td>\n",
       "      <td>277.142767</td>\n",
       "      <td>6.627450</td>\n",
       "      <td>220.000000</td>\n",
       "      <td>0.943845</td>\n",
       "      <td>1.000000</td>\n",
       "      <td>0.000000</td>\n",
       "      <td>1.806289</td>\n",
       "      <td>1.663622</td>\n",
       "    </tr>\n",
       "    <tr>\n",
       "      <th>max</th>\n",
       "      <td>2.014123e+07</td>\n",
       "      <td>2345.000000</td>\n",
       "      <td>354.992575</td>\n",
       "      <td>31.702603</td>\n",
       "      <td>350.000000</td>\n",
       "      <td>0.997842</td>\n",
       "      <td>18.000000</td>\n",
       "      <td>13.000000</td>\n",
       "      <td>23.397625</td>\n",
       "      <td>20.879860</td>\n",
       "    </tr>\n",
       "  </tbody>\n",
       "</table>\n",
       "</div>"
      ],
      "text/plain": [
       "               date          HrMn           dir         speed  dir_windrose  \\\n",
       "count  3.928700e+04  39287.000000  39287.000000  39287.000000  39287.000000   \n",
       "mean   2.012018e+07   1205.500929    181.161121      4.819304    151.418281   \n",
       "std    1.395708e+04    676.371287    105.239478      3.836278     98.099200   \n",
       "min    2.010010e+07     45.000000     -4.992989      0.000811      0.000000   \n",
       "25%    2.011033e+07    645.000000     74.483611      2.033029     50.000000   \n",
       "50%    2.012061e+07   1245.000000    207.349409      3.817695    160.000000   \n",
       "75%    2.013082e+07   1745.000000    277.142767      6.627450    220.000000   \n",
       "max    2.014123e+07   2345.000000    354.992575     31.702603    350.000000   \n",
       "\n",
       "            decimal         incre  incre_reverse             x             y  \n",
       "count  39287.000000  39287.000000   39287.000000  39287.000000  39287.000000  \n",
       "mean       0.616794     -0.016443      -0.012523      0.235261     -1.312414  \n",
       "std        0.431162      1.836072       1.538786      3.525259      4.872170  \n",
       "min        0.019445    -34.000000     -42.000000    -17.035468    -27.846925  \n",
       "25%        0.082075     -1.000000       0.000000     -1.410136     -4.020846  \n",
       "50%        0.915768      0.000000       0.000000      0.406285     -0.522773  \n",
       "75%        0.943845      1.000000       0.000000      1.806289      1.663622  \n",
       "max        0.997842     18.000000      13.000000     23.397625     20.879860  "
      ]
     },
     "execution_count": 26,
     "metadata": {},
     "output_type": "execute_result"
    }
   ],
   "source": [
    "## Summery of the data selection\n",
    "print 'incre_threshold for artefact detect:', incre_threshold\n",
    "print 'Report type used:', report_type_most_used\n",
    "print 'Sampling time used:', sampling_time_most_used\n",
    "\n",
    "df_all_years = df\n",
    "df = df.query('(date >= 20100000) & (date < 20150000)')\n",
    "df.describe()"
   ]
  },
  {
   "cell_type": "code",
   "execution_count": 27,
   "metadata": {
    "collapsed": false
   },
   "outputs": [
    {
     "data": {
      "image/png": "[encoded data removed]",
      "text/plain": [
       "<matplotlib.figure.Figure at 0x110daee10>"
      ]
     },
     "metadata": {},
     "output_type": "display_data"
    }
   ],
   "source": [
    "# 90 degree is in east\n",
    "ax = WindroseAxes.from_ax()\n",
    "ax.bar(df.dir_windrose, df.speed, normed=True, opening=0.8, edgecolor='white', nsector=36)\n",
    "ax.set_legend()"
   ]
  },
  {
   "cell_type": "code",
   "execution_count": 28,
   "metadata": {
    "collapsed": false
   },
   "outputs": [
    {
     "data": {
      "image/png": "[encoded data removed]",
      "text/plain": [
       "<matplotlib.figure.Figure at 0x10bbb3d50>"
      ]
     },
     "metadata": {},
     "output_type": "display_data"
    }
   ],
   "source": [
    "ax, _params = WindAxes.from_ax().pdf(df.speed, \n",
    "                                     bins=arange(0, max(df.speed)))\n",
    "weibull_params = sp.stats.exponweib.fit(df.speed, floc=0, f0=1)"
   ]
  },
  {
   "cell_type": "code",
   "execution_count": 29,
   "metadata": {
    "collapsed": false
   },
   "outputs": [
    {
     "data": {
      "text/plain": [
       "[<matplotlib.lines.Line2D at 0x10e429590>]"
      ]
     },
     "execution_count": 29,
     "metadata": {},
     "output_type": "execute_result"
    },
    {
     "data": {
      "image/png": "[encoded data removed]",
      "text/plain": [
       "<matplotlib.figure.Figure at 0x10e28d390>"
      ]
     },
     "metadata": {},
     "output_type": "display_data"
    }
   ],
   "source": [
    "sample = df.speed\n",
    "ecdf = sm.distributions.ECDF(sample)\n",
    "\n",
    "x = linspace(min(sample), max(sample))\n",
    "y = ecdf(x)\n",
    "plt.plot(log(x), log(-log(1-y)),'o')\n",
    "\n",
    "w_scale, c_shape = weibull_params[1], weibull_params[3]\n",
    "qz=exp(-(x/c_shape)**w_scale)\n",
    "plt.plot(log(x), log(-log(qz)),'-')"
   ]
  },
  {
   "cell_type": "markdown",
   "metadata": {},
   "source": [
    "# 2. Create input data, i.e. speed_set"
   ]
  },
  {
   "cell_type": "code",
   "execution_count": 30,
   "metadata": {
    "collapsed": false
   },
   "outputs": [],
   "source": [
    "# speed_set = array(zip(-df.x, -df.y)) # Adjust the direction to match for Cook's paper\n",
    "SPEED_SET = array(zip(df.x, df.y))\n",
    "max_speed = df.speed.max()\n",
    "NUMBER_OF_GAUSSIAN = 3\n",
    "FIT_METHOD = 'square_error'\n",
    "DEFAULT_BANDWDITH = 1.5 if knot_unit else 0.7"
   ]
  },
  {
   "cell_type": "code",
   "execution_count": 31,
   "metadata": {
    "collapsed": false
   },
   "outputs": [
    {
     "name": "stdout",
     "output_type": "stream",
     "text": [
      "[-13. -12. -11. -10.  -9.  -8.  -7.  -6.  -5.  -4.  -3.  -2.  -1.   0.   1.\n",
      "   2.   3.   4.   5.   6.   7.   8.   9.  10.  11.  12.  13.]\n"
     ]
    }
   ],
   "source": [
    "FITTING_RANGE = []\n",
    "fit_limit = ceil(df['speed'].quantile(.95))\n",
    "plot_limit = ceil(df['speed'].quantile(.975))\n",
    "fitting_axis_range = arange(-fit_limit, fit_limit+1, 1)\n",
    "PLOT_AXIS_RANGE = arange(-plot_limit, plot_limit+1, 1)\n",
    "    \n",
    "for i in fitting_axis_range:\n",
    "    for j in fitting_axis_range:\n",
    "        FITTING_RANGE.append([i,j])\n",
    "        \n",
    "print fitting_axis_range"
   ]
  },
  {
   "cell_type": "markdown",
   "metadata": {},
   "source": [
    "# 3. Kernel Density Estimation"
   ]
  },
  {
   "cell_type": "code",
   "execution_count": null,
   "metadata": {
    "collapsed": true
   },
   "outputs": [],
   "source": [
    "sample = SPEED_SET"
   ]
  },
  {
   "cell_type": "code",
   "execution_count": null,
   "metadata": {
    "collapsed": false
   },
   "outputs": [],
   "source": [
    "# The bandwidth value sometimes would be too radical\n",
    "from sklearn.grid_search import GridSearchCV\n",
    "\n",
    "if knot_unit:\n",
    "    bandwidth_range = arange(0.5,2,0.2)\n",
    "else:\n",
    "    bandwidth_range = arange(0.4,1,0.1)\n",
    "\n",
    "grid = GridSearchCV(neighbors.KernelDensity(),\n",
    "                    {'bandwidth': bandwidth_range},\n",
    "                    n_jobs=-1, cv=4) \n",
    "grid.fit(sample)\n",
    "bandwidth = grid.best_params_['bandwidth']"
   ]
  },
  {
   "cell_type": "code",
   "execution_count": null,
   "metadata": {
    "collapsed": false
   },
   "outputs": [],
   "source": [
    "if 'bandwidth' not in globals():\n",
    "    bandwidth = DEFAULT_BANDWDITH \n",
    "\n",
    "kde = neighbors.KernelDensity(bandwidth=bandwidth).fit(sample)\n",
    "\n",
    "points = FITTING_RANGE\n",
    "# very slow if the dataset is too large, e.g. 100,000\n",
    "# kde returns log prob, need to convert it\n",
    "kde_result = exp(kde.score_samples(points))\n",
    "print 'bandwidth:', bandwidth, len(kde_result)\n",
    "print kde_result[:5]"
   ]
  },
  {
   "cell_type": "code",
   "execution_count": null,
   "metadata": {
    "collapsed": false
   },
   "outputs": [],
   "source": [
    "# Plot jPDF\n",
    "X = Y = PLOT_AXIS_RANGE\n",
    "# Can't work if pass as generate_Z_from_X_Y(X,Y, exp(kde.score_samples())), need to use lambda\n",
    "# see http://stackoverflow.com/questions/21035437/passing-a-function-as-an-argument-in-python\n",
    "kde_Z = generate_Z_from_X_Y(X,Y, lambda coords: exp(kde.score_samples(coords)))\n",
    "\n",
    "fig = plt.figure(figsize=(22,8))\n",
    "ax1 = fig.add_subplot(1,2,1, projection = '3d')\n",
    "plot_3d_prob_density(X,Y,kde_Z,ax1)\n",
    "ax2 = fig.add_subplot(1,2,2)\n",
    "plot_2d_prob_density(X,Y,kde_Z,ax2)"
   ]
  },
  {
   "cell_type": "code",
   "execution_count": null,
   "metadata": {
    "collapsed": false
   },
   "outputs": [],
   "source": [
    "kde_cdf = cdf_from_pdf(kde_result)"
   ]
  },
  {
   "cell_type": "markdown",
   "metadata": {},
   "source": [
    "# 4. GMM Estimation, using EM algo"
   ]
  },
  {
   "cell_type": "code",
   "execution_count": null,
   "metadata": {
    "collapsed": false
   },
   "outputs": [],
   "source": [
    "sample= SPEED_SET\n",
    "clf = mixture.GMM(n_components=NUMBER_OF_GAUSSIAN, covariance_type='full')\n",
    "clf.fit(sample)\n",
    "print clf.converged_"
   ]
  },
  {
   "cell_type": "code",
   "execution_count": null,
   "metadata": {
    "collapsed": false
   },
   "outputs": [],
   "source": [
    "gmm_em_result = read_gmm_em_result(clf)\n",
    "pretty_print_gmm(gmm_em_result)  "
   ]
  },
  {
   "cell_type": "code",
   "execution_count": null,
   "metadata": {
    "collapsed": false
   },
   "outputs": [],
   "source": [
    "plot_gmm_ellipses(gmm_em_result)"
   ]
  },
  {
   "cell_type": "code",
   "execution_count": null,
   "metadata": {
    "collapsed": false
   },
   "outputs": [],
   "source": [
    "X = Y = PLOT_AXIS_RANGE\n",
    "pdf_Z = generate_Z_from_X_Y(X,Y, lambda coords: exp(clf.score_samples(coords)[0]))\n",
    "\n",
    "def residule_between_kde_and_gmm(points):\n",
    "    kde_vals = exp(kde.score_samples(points))\n",
    "    gmm_vals = exp(clf.score_samples(points)[0])\n",
    "    return kde_vals - gmm_vals \n",
    "\n",
    "residual_Z = generate_Z_from_X_Y(X,Y, residule_between_kde_and_gmm)\n",
    "\n",
    "fig = plt.figure(figsize=(22,8))\n",
    "ax1 = fig.add_subplot(1,2,1, projection = '3d')\n",
    "plot_3d_prob_density(X,Y,pdf_Z,ax1)\n",
    "ax2 = fig.add_subplot(1,2,2,projection = '3d')\n",
    "plot_3d_prob_density(X,Y,residual_Z,ax2)\n",
    "\n",
    "fig = plt.figure(figsize=(22,5))\n",
    "ax1 = fig.add_subplot(1,3,1)\n",
    "plot_2d_prob_density(X,Y,kde_Z,ax1)\n",
    "ax2 = fig.add_subplot(1,3,2)\n",
    "plot_2d_prob_density(X,Y,pdf_Z,ax2)\n",
    "ax3 = fig.add_subplot(1,3,3)\n",
    "plot_2d_prob_density(X,Y,residual_Z,ax3)"
   ]
  },
  {
   "cell_type": "markdown",
   "metadata": {},
   "source": [
    "## GMM, EM VS. KDE"
   ]
  },
  {
   "cell_type": "code",
   "execution_count": null,
   "metadata": {
    "collapsed": false
   },
   "outputs": [],
   "source": [
    "points = FITTING_RANGE\n",
    "gmm_pdf_result = exp(clf.score_samples(points)[0])\n",
    "# put into Pandas to make it looks better\n",
    "pretty_pd_display([goodness_of_fit_summary(gmm_pdf_result, kde_result)])"
   ]
  },
  {
   "cell_type": "markdown",
   "metadata": {},
   "source": [
    "# 5. Least Square Prob Estimation"
   ]
  },
  {
   "cell_type": "code",
   "execution_count": null,
   "metadata": {
    "collapsed": true
   },
   "outputs": [],
   "source": [
    "sample = SPEED_SET\n",
    "points = FITTING_RANGE"
   ]
  },
  {
   "cell_type": "code",
   "execution_count": null,
   "metadata": {
    "collapsed": false
   },
   "outputs": [],
   "source": [
    "# from GMM,EM \n",
    "# GMM format: weight, meanx, meany, sigx, sigy, rho\n",
    "x0 = gmm_em_result\n",
    "\n",
    "cons = [\n",
    "        # sum of every 6th element, which is the fraction of each gaussian\n",
    "        {'type': 'eq', 'fun': lambda x: sum(x[::6]) - 1},\n",
    "        # # limit the width/height ratio of elliplse, optional\n",
    "        # {'type': 'ineq', 'fun': lambda x: width_height_ratios_set(x) - 1/3},\n",
    "        # {'type': 'ineq', 'fun': lambda x: 3 - width_height_ratios_set(x)},\n",
    "]\n",
    "\n",
    "bonds = [(0., 0.99),(-fit_limit, fit_limit),(-fit_limit, fit_limit),\n",
    "         (0., fit_limit),(0., fit_limit),(-0.99, 0.99)]*int(len(x0)/6)\n",
    "\n",
    "result = sp.optimize.minimize(\n",
    "    lambda x0: GMM_fit_score(x0, kde_result, points,FIT_METHOD),\n",
    "    x0,\n",
    "    bounds = bonds,\n",
    "    constraints=cons,\n",
    "    tol = 0.000000000001,\n",
    "    options = {\"maxiter\": 500})\n",
    "result"
   ]
  },
  {
   "cell_type": "markdown",
   "metadata": {},
   "source": [
    "## 5.1 GMM Result"
   ]
  },
  {
   "cell_type": "code",
   "execution_count": null,
   "metadata": {
    "collapsed": false
   },
   "outputs": [],
   "source": [
    "gmm = group_gmm_param_from_gmm_param_array(result.x, sort_group = True)\n",
    "mixed_model_pdf = generate_gmm_pdf_from_grouped_gmm_param(gmm)\n",
    "gmm_pdf_result = mixed_model_pdf(points)\n",
    "\n",
    "pretty_print_gmm(gmm)"
   ]
  },
  {
   "cell_type": "code",
   "execution_count": null,
   "metadata": {
    "collapsed": false
   },
   "outputs": [],
   "source": [
    "plot_gmm_ellipses(gmm)"
   ]
  },
  {
   "cell_type": "markdown",
   "metadata": {},
   "source": [
    "## 5.2 Goodness-of-fit statistics"
   ]
  },
  {
   "cell_type": "code",
   "execution_count": null,
   "metadata": {
    "collapsed": false
   },
   "outputs": [],
   "source": [
    "pretty_pd_display([goodness_of_fit_summary(gmm_pdf_result, kde_result)])"
   ]
  },
  {
   "cell_type": "code",
   "execution_count": null,
   "metadata": {
    "collapsed": false
   },
   "outputs": [],
   "source": [
    "X = Y = PLOT_AXIS_RANGE\n",
    "pdf_Z = generate_Z_from_X_Y(X,Y, mixed_model_pdf)# passing a function as an argument\n",
    "\n",
    "def residule_between_kde_and_gmm(points):\n",
    "    kde_vals = exp(kde.score_samples(points))\n",
    "    gmm_vals = mixed_model_pdf(points)\n",
    "    return kde_vals - gmm_vals \n",
    "\n",
    "residual_Z = generate_Z_from_X_Y(X,Y, residule_between_kde_and_gmm)\n",
    "\n",
    "fig = plt.figure(figsize=(22,8))\n",
    "ax1 = fig.add_subplot(1,2,1, projection = '3d')\n",
    "plot_3d_prob_density(X,Y,pdf_Z,ax1)\n",
    "ax2 = fig.add_subplot(1,2,2,projection = '3d')\n",
    "plot_3d_prob_density(X,Y,residual_Z,ax2)\n",
    "\n",
    "fig = plt.figure(figsize=(22,5))\n",
    "ax1 = fig.add_subplot(1,3,1)\n",
    "plot_2d_prob_density(X,Y,kde_Z,ax1)\n",
    "ax2 = fig.add_subplot(1,3,2)\n",
    "plot_2d_prob_density(X,Y,pdf_Z,ax2)\n",
    "ax3 = fig.add_subplot(1,3,3)\n",
    "plot_2d_prob_density(X,Y,residual_Z,ax3)"
   ]
  },
  {
   "cell_type": "code",
   "execution_count": null,
   "metadata": {
    "collapsed": false
   },
   "outputs": [],
   "source": [
    "def f(V,theta):\n",
    "    return (mixed_model_pdf([[V*cos(theta),V*sin(theta)]]))*V\n",
    "\n",
    "x_vals_OEN3_LMSE  = arange(0, max_speed)\n",
    "y_vals_OEN3_LMSE =[integrate.nquad(f, [[0, x_val],[0, 2*pi]]) for x_val in x_vals_OEN3_LMSE ]"
   ]
  },
  {
   "cell_type": "code",
   "execution_count": null,
   "metadata": {
    "collapsed": false
   },
   "outputs": [],
   "source": [
    "x = arange(0, max_speed, 0.5)\n",
    "\n",
    "# 1. Plot v-p points, empirical distribution\n",
    "ecdf = sm.distributions.ECDF(df.speed)\n",
    "y = ecdf(x)\n",
    "plt.plot(log(x), log(-log(1-y)),'o')\n",
    "\n",
    "# 2. Weibull distribution\n",
    "w_scale, c_shape = weibull_params[1], weibull_params[3]\n",
    "qz=exp(-(x/c_shape)**w_scale)\n",
    "plt.plot(log(x), log(-log(qz)),'-', color = 'y')\n",
    "\n",
    "# 3. OEN3 distribution\n",
    "x, y_ = x_vals_OEN3_LMSE, y_vals_OEN3_LMSE\n",
    "y = array(zip(*y_)[0])\n",
    "plt.plot(log(x), log(-log(1-y)),'-', color = 'r')\n",
    "\n",
    "plt.show()"
   ]
  },
  {
   "cell_type": "code",
   "execution_count": null,
   "metadata": {
    "collapsed": false
   },
   "outputs": [],
   "source": [
    "# Calculate Angle Distribution\n",
    "x_vals = linspace(0,2*pi, num=36+1)\n",
    "y_vals_ =[integrate.nquad(f, [[0, inf],[x_val-pi/36, x_val+pi/36]]) for x_val in x_vals]\n",
    "\n",
    "# 1. integrate.nquad returns 2 vaule, result, abserr. Need to abstract the first to plot\n",
    "# 2. * length of data size, to adjust the plot space\n",
    "y_vals = array(zip(*y_vals_)[0])*len(df['dir']) \n",
    "\n",
    "df['dir'].hist(bins=DIR_BIN, alpha=0.5,figsize=(15, 6))\n",
    "\n",
    "plt.plot(x_vals/pi*180, y_vals,'-', color='black')\n",
    "plt.suptitle('Direction Distribution Comparison', fontsize = 20)\n",
    "plt.axis('tight')\n",
    "plt.show()"
   ]
  },
  {
   "cell_type": "code",
   "execution_count": null,
   "metadata": {
    "collapsed": false
   },
   "outputs": [],
   "source": [
    "# Calculate Speed Distribution\n",
    "# 1. GMM Model\n",
    "x_vals = arange(0, max_speed, 0.5)\n",
    "y_vals_ =[integrate.nquad(f, [[x_val-0.1, x_val+0.1],[0, 2*pi]]) for x_val in x_vals]\n",
    "y_vals = array(zip(*y_vals_)[0])*len(df.speed)/0.2\n",
    "plt.plot(x_vals, y_vals,'-', color='black')\n",
    "\n",
    "# 2. Observation\n",
    "df['speed'].hist(bins=arange(0, max_speed), alpha=0.5,figsize=(15, 6))\n",
    "\n",
    "# 3. 1d KDE\n",
    "sample = array(df.speed).reshape(-1, 1)\n",
    "kde_temp = neighbors.KernelDensity(bandwidth=0.5).fit(sample) \n",
    "y_vals = [exp(kde_temp.score_samples(x_val))*len(sample) for x_val in x_vals]\n",
    "plt.plot(x_vals, y_vals,'-', color='yellow')\n",
    "\n",
    "plt.suptitle('Speed Distribution Comparison', fontsize = 20)\n",
    "plt.show()"
   ]
  },
  {
   "cell_type": "markdown",
   "metadata": {},
   "source": [
    "## 5.3 Sectoral Comaprison"
   ]
  },
  {
   "cell_type": "code",
   "execution_count": null,
   "metadata": {
    "collapsed": false
   },
   "outputs": [],
   "source": [
    "# Calculate Speed Distribution\n",
    "def model_data_comparison(df, original_incre = 10, incre = 10):\n",
    "    start, end = -original_incre/2 + incre/2, 360\n",
    "    max_diff_array = []\n",
    "    max_speed = df.speed.max()\n",
    "    \n",
    "    # Find a max count for plotting histogram\n",
    "    max_count = max_count_for_angles(df, start, end, incre)\n",
    "    hist_y_axis = [0, max_speed, 0, max_count]\n",
    "    \n",
    "    for angle in arange(start, end, incre):\n",
    "        angle_radian, incre_radian = radians(angle), radians(incre)  \n",
    "        start_angle, end_angle = angle-incre/2, angle+incre/2\n",
    "        \n",
    "        # Select data from observation\n",
    "        sub_df, sub_max_speed = select_df_by_angle(df, start_angle, end_angle)\n",
    "        direction_prob = integrate.nquad(f, \n",
    "                                         [[0, inf],\n",
    "                                          [angle_radian-incre_radian/2, angle_radian+incre_radian/2]])\n",
    "        \n",
    "        # 1. Count Comparison\n",
    "        # 1.1. Data Histogram\n",
    "        fig = plt.figure(figsize=(22,4))\n",
    "        ax1 = fig.add_subplot(1,3,1)        \n",
    "        sub_df['speed'].hist(bins=arange(0, sub_max_speed), alpha=0.5)\n",
    "        plt.axis(hist_y_axis)\n",
    "        \n",
    "        # 1.2. Model Distribution\n",
    "        x_vals = linspace(0, sub_max_speed, 20)\n",
    "        y_vals_ =[integrate.nquad(f, \n",
    "                  [[x_val-0.1, x_val+0.1],\n",
    "                   [angle_radian-incre_radian/2, angle_radian+incre_radian/2]]) \n",
    "                  for x_val in x_vals]\n",
    "        y_vals = array(zip(*y_vals_)[0])/direction_prob[0] * len(sub_df.speed)/0.2\n",
    "        plt.plot(x_vals, y_vals,'-', color='black')\n",
    "        \n",
    "        # 2. CDF Comaprison\n",
    "        x = linspace(0, sub_max_speed, 20)\n",
    "        # 2.1. Data's empirical distribution\n",
    "        ecdf = sm.distributions.ECDF(sub_df.speed)\n",
    "        y_cdf = ecdf(x)\n",
    "        \n",
    "        # 2.2. Model\n",
    "        y_ =[integrate.nquad(f, [[0, x_val],[angle_radian-incre_radian/2, angle_radian+incre_radian/2]]) \n",
    "             for x_val in x]\n",
    "        y_gmm = array(zip(*y_)[0])/direction_prob[0]\n",
    "                \n",
    "        # 2.3.1. Plot in ordinary axis\n",
    "        ax3 = fig.add_subplot(1,3,2)\n",
    "        plt.plot(x, y_cdf,'o')\n",
    "        plt.plot(x, y_gmm,'-', color = 'r')\n",
    "        \n",
    "        # 2.3.2. Weibull plot\n",
    "        ax4 = fig.add_subplot(1,3,3)\n",
    "        plt.plot(log(x), log(-log(1-y_cdf)),'o')\n",
    "        plt.plot(log(x), log(-log(1-y_gmm)),'-', color = 'r')\n",
    "        \n",
    "        plt.suptitle('%s (%s - %s) Degree Speed Distribution Comparison' % (angle, start_angle, end_angle), \n",
    "                     fontsize = 15)\n",
    "        plt.show()\n",
    "        \n",
    "        diff = abs(y_cdf - y_gmm)\n",
    "        max_diff_array.append([angle, diff.max(), x[diff.argmax()]])\n",
    "        print 'data size:', len(sub_df)\n",
    "        print 'max diff:', diff.max(), ', speed value:', x[diff.argmax()], 'y gmm', y_gmm[diff.argmax()],\n",
    "    return max_diff_array"
   ]
  },
  {
   "cell_type": "code",
   "execution_count": null,
   "metadata": {
    "collapsed": false,
    "scrolled": false
   },
   "outputs": [],
   "source": [
    "if len(effective_coloumn) == 16:\n",
    "    max_diff_array = model_data_comparison(df, SECTOR_LENGTH, 22.5)\n",
    "else: \n",
    "    max_diff_array = model_data_comparison(df, SECTOR_LENGTH, 20)"
   ]
  },
  {
   "cell_type": "markdown",
   "metadata": {},
   "source": [
    "### 5.3.1 Variance over the years"
   ]
  },
  {
   "cell_type": "code",
   "execution_count": null,
   "metadata": {
    "collapsed": false
   },
   "outputs": [],
   "source": [
    "max_diff_element = max(max_diff_array, key=lambda x: x[1])\n",
    "angle =  max_diff_angle = max_diff_element[0]\n",
    "incre = 20\n",
    "\n",
    "# Select data from observation\n",
    "start_angle, end_angle = angle-incre/2, angle+incre/2\n",
    "angle_radian, incre_radian = radians(angle), radians(incre)  \n",
    "sub_df, max_speed = select_df_by_angle(df, start_angle, end_angle)\n",
    "\n",
    "x_vals = arange(0, max_speed, 0.5)\n",
    "\n",
    "# 1. 1d KDE \n",
    "sample = array(sub_df.speed).reshape(-1, 1)\n",
    "sub_kde = neighbors.KernelDensity(bandwidth=0.5).fit(sample) \n",
    "y_vals = [exp(sub_kde.score_samples(x_val))\n",
    "          for x_val in x_vals]\n",
    "plt.plot(x_vals, y_vals,'-', color='yellow')\n",
    "\n",
    "# 2. GMM\n",
    "y_vals_ =[integrate.nquad(f, [[x_val-0.1, x_val+0.1],\n",
    "                              [angle_radian-incre_radian/2, angle_radian+incre_radian/2]]) \n",
    "          for x_val in x_vals]\n",
    "direction_prob = integrate.nquad(f, [[0, inf],\n",
    "                                     [angle_radian-incre_radian/2, angle_radian+incre_radian/2]])\n",
    "y_vals = array(zip(*y_vals_)[0])/direction_prob[0] /0.2\n",
    "plt.plot(x_vals, y_vals,'-', color='black')\n",
    "\n",
    "for start_time in xrange(20000000, 20150000, 50000):\n",
    "    end_time = start_time + 50000 \n",
    "    df_other_years = df_all_years.query('(date >= @start_time) & (date < @end_time)')\n",
    "    df_other_years_at_angle, _ = select_df_by_angle(df_other_years, start_angle, end_angle)\n",
    "    if len(df_other_years) > 0 :\n",
    "        df_other_years_at_angle['speed'].hist(bins=arange(0, max_speed), \n",
    "                                              normed=True,alpha=0.7,\n",
    "                                              label = str(int(start_time/10000)))\n",
    "\n",
    "plt.suptitle('%s (%s - %s) Degree Speed Distribution Comparison' % (angle, start_angle, end_angle), \n",
    "             fontsize = 15)\n",
    "plt.legend()\n",
    "plt.show()"
   ]
  },
  {
   "cell_type": "code",
   "execution_count": null,
   "metadata": {
    "collapsed": false
   },
   "outputs": [],
   "source": [
    "fig = plt.figure(figsize=(15,4))\n",
    "\n",
    "x = linspace(0, max_speed, 20)\n",
    "for start_time in xrange(20000000, 20150000, 50000):\n",
    "    end_time = start_time + 50000 \n",
    "    df_other_years = df_all_years.query('(date >= @start_time) & (date < @end_time)')\n",
    "    df_other_years_at_angle, _ = select_df_by_angle(df_other_years, start_angle, end_angle)\n",
    "    if len(df_other_years_at_angle) > 0 :\n",
    "        \n",
    "        sample = df_other_years_at_angle.speed\n",
    "        ecdf = sm.distributions.ECDF(sample)\n",
    "        y_cdf = ecdf(x)\n",
    "\n",
    "        ax1 = fig.add_subplot(1,2,1) \n",
    "        plt.plot(x, y_cdf,'--', label = str(int(start_time/10000)))\n",
    "\n",
    "        ax3 = fig.add_subplot(1,2,2) \n",
    "        plt.plot(log(x), log(-log(1-y_cdf)),'--', label = str(int(start_time/10000)))\n",
    "       \n",
    "y_ =[integrate.nquad(f, [[0, x_val],[angle_radian-incre_radian/2, angle_radian+incre_radian/2]]) for x_val in x]\n",
    "direction_prob = integrate.nquad(f, [[0, inf],[angle_radian-incre_radian/2, angle_radian+incre_radian/2]])\n",
    "y_gmm = array(zip(*y_)[0])/direction_prob[0]\n",
    "\n",
    "ax1 = fig.add_subplot(1,2,1) \n",
    "plt.plot(x, y_gmm,'-', color = 'black', label = 'GMM')\n",
    "plt.legend()\n",
    "\n",
    "ax3 = fig.add_subplot(1,2,2) \n",
    "plt.plot(log(x), log(-log(1-y_gmm)),'-', color = 'black',label = 'GMM')\n",
    "plt.legend()"
   ]
  },
  {
   "cell_type": "markdown",
   "metadata": {},
   "source": [
    "### 5.3.2 Bootstrap, to see the variance of each sector"
   ]
  },
  {
   "cell_type": "code",
   "execution_count": null,
   "metadata": {
    "collapsed": false
   },
   "outputs": [],
   "source": [
    "FRACTION = 0.5 \n",
    "\n",
    "x_vals = arange(0, max_speed, 0.5)\n",
    "\n",
    "# 1. 1d KDE \n",
    "sample = array(sub_df.speed).reshape(-1, 1)\n",
    "sub_kde = neighbors.KernelDensity(bandwidth=0.5).fit(sample) \n",
    "y_vals = [exp(sub_kde.score_samples(x_val))*len(sub_df.speed)*FRACTION\n",
    "          for x_val in x_vals]\n",
    "plt.plot(x_vals, y_vals,'-', color='yellow')\n",
    "\n",
    "#2. GMM\n",
    "y_vals_ =[integrate.nquad(f, [[x_val-0.1, x_val+0.1],\n",
    "                              [angle_radian-incre_radian/2, angle_radian+incre_radian/2]]) \n",
    "          for x_val in x_vals]\n",
    "direction_prob = integrate.nquad(f, [[0, inf],\n",
    "                                     [angle_radian-incre_radian/2, angle_radian+incre_radian/2]])\n",
    "y_vals = array(zip(*y_vals_)[0])/direction_prob[0]/0.2 *len(sub_df.speed)*FRACTION\n",
    "plt.plot(x_vals, y_vals,'-', color='black')\n",
    "\n",
    "bins = arange(0, max_speed, 1)\n",
    "for i in xrange(1,100):\n",
    "    sub_df_resampled = sub_df.sample(frac=FRACTION, replace=True)\n",
    "    sub_df_resampled['speed'].hist(bins=bins, alpha=0.5)\n",
    "\n",
    "plt.suptitle('%s (%s - %s) Degree Speed Distribution Comparison' % (angle, start_angle, end_angle), \n",
    "             fontsize = 15)"
   ]
  },
  {
   "cell_type": "code",
   "execution_count": null,
   "metadata": {
    "collapsed": false
   },
   "outputs": [],
   "source": [
    "fig = plt.figure(figsize=(15,4))\n",
    "\n",
    "x = linspace(0, max_speed, 20)\n",
    "y_ =[integrate.nquad(f, [[0, x_val],[angle_radian-incre_radian/2, angle_radian+incre_radian/2]]) for x_val in x]\n",
    "direction_prob = integrate.nquad(f, [[0, inf],[angle_radian-incre_radian/2, angle_radian+incre_radian/2]])\n",
    "y_gmm = array(zip(*y_)[0])/direction_prob[0]\n",
    "\n",
    "ax1 = fig.add_subplot(1,2,1) \n",
    "plt.plot(x, y_gmm,'-', color = 'black')\n",
    "\n",
    "ax3 = fig.add_subplot(1,2,2) \n",
    "plt.plot(log(x), log(-log(1-y_gmm)),'-', color = 'black')\n",
    "\n",
    "for i in xrange(1,100):\n",
    "    sub_df_resampled = sub_df.sample(frac=FRACTION, replace=True)\n",
    "    \n",
    "    sample = sub_df_resampled.speed\n",
    "    ecdf = sm.distributions.ECDF(sample)\n",
    "    y_cdf = ecdf(x)\n",
    "\n",
    "    ax1 = fig.add_subplot(1,2,1) \n",
    "    plt.plot(x, y_cdf,'--')\n",
    "\n",
    "    ax3 = fig.add_subplot(1,2,2) \n",
    "    plt.plot(log(x), log(-log(1-y_cdf)),'--')\n",
    "    \n",
    "diff = abs(y_cdf - y_gmm)\n",
    "print diff.max(), x[diff.argmax()], y_gmm[diff.argmax()]"
   ]
  },
  {
   "cell_type": "markdown",
   "metadata": {},
   "source": [
    "# 6. Variance of results & Cross Validation"
   ]
  },
  {
   "cell_type": "code",
   "execution_count": null,
   "metadata": {
    "collapsed": false
   },
   "outputs": [],
   "source": [
    "from sklearn.cross_validation import train_test_split, KFold\n",
    "\n",
    "if 'bandwidth' not in globals():\n",
    "    bandwidth = DEFAULT_BANDWDITH    \n",
    "    \n",
    "points = FITTING_RANGE\n",
    "    \n",
    "def fit_gmm(df, number_of_gaussian = 3, fit_method = 'square_error'):\n",
    "    # 1. Create Input, speed_set\n",
    "    sample = sub_speed_set = array(zip(df.x, df.y))\n",
    "    points = FITTING_RANGE\n",
    "    \n",
    "    # 2. KDE + EM fitting\n",
    "    kde = neighbors.KernelDensity(bandwidth=bandwidth).fit(sample) \n",
    "    kde_result = exp(kde.score_samples(points))\n",
    "    \n",
    "    clf = mixture.GMM(n_components=number_of_gaussian, covariance_type='full')\n",
    "    clf.fit(sample)\n",
    "    gmm_em_result = read_gmm_em_result(clf)\n",
    "        \n",
    "    # 3. GMM fitting\n",
    "    x0 = gmm_em_result\n",
    "    bonds = [(0., 0.99),(-fit_limit, fit_limit),\n",
    "             (-fit_limit, fit_limit),(0., fit_limit),(0., fit_limit),(-0.99, 0.99)]*int(len(x0)/6)\n",
    "    cons = [{'type': 'eq', 'fun': lambda x: sum(x[::6]) - 1},\n",
    "#             {'type': 'ineq', 'fun': lambda x: width_height_ratios_set(x) - 1/3},\n",
    "#             {'type': 'ineq', 'fun': lambda x: 3 - width_height_ratios_set(x)},\n",
    "           ]\n",
    " \n",
    "    result = sp.optimize.minimize(\n",
    "        lambda x0: GMM_fit_score(x0, kde_result, points, method=fit_method),\n",
    "        x0,\n",
    "        bounds = bonds,\n",
    "        constraints = cons,\n",
    "        tol = 0.000000000001,\n",
    "        options = {\"maxiter\": 500})  \n",
    "    \n",
    "    # 4. Returns\n",
    "    gmm = group_gmm_param_from_gmm_param_array(result.x)  \n",
    "    mixed_model_pdf = generate_gmm_pdf_from_grouped_gmm_param(gmm)\n",
    "    gmm_pdf_result = mixed_model_pdf(points)\n",
    "    \n",
    "    return {\n",
    "        'gmm' : gmm,\n",
    "        'kde_clf': kde,\n",
    "        'kde_result': kde_result,\n",
    "        'gmm_pdf_result': gmm_pdf_result,\n",
    "        'number_of_iteration': result.nit,\n",
    "    }"
   ]
  },
  {
   "cell_type": "markdown",
   "metadata": {},
   "source": [
    "## 6.1 Variance of the Result"
   ]
  },
  {
   "cell_type": "code",
   "execution_count": null,
   "metadata": {
    "collapsed": false
   },
   "outputs": [],
   "source": [
    "for i in range(10):\n",
    "    df_resampled = df.sample(frac=1, replace=True)\n",
    "    result = fit_gmm(df_resampled, NUMBER_OF_GAUSSIAN, fit_method = FIT_METHOD)\n",
    "    display(pretty_print_gmm(result['gmm']))\n",
    "    plot_gmm_ellipses(result['gmm'])\n",
    "    pretty_pd_display([goodness_of_fit_summary(result['gmm_pdf_result'], result['kde_result'])])"
   ]
  },
  {
   "cell_type": "markdown",
   "metadata": {},
   "source": [
    "## 6.2 Cross validation, to select the number of Gaussian"
   ]
  },
  {
   "cell_type": "code",
   "execution_count": null,
   "metadata": {
    "collapsed": false
   },
   "outputs": [],
   "source": [
    "## 5-fold cross validation\n",
    "gaussian_number_range = arange(1,7)\n",
    "CV_result_train_all,CV_result_test_all =[],[]\n",
    "number_of_fold = 4\n",
    "print 'Number of train/test dataset', len(df)*(number_of_fold-1)/number_of_fold, len(df)/number_of_fold\n",
    "\n",
    "for number_of_gaussian in gaussian_number_range:\n",
    "    print '  '\n",
    "    print 'Number of gaussian', number_of_gaussian\n",
    "    \n",
    "    kf = KFold(len(df), n_folds=number_of_fold, shuffle=True) \n",
    "\n",
    "    CV_result_train, CV_result_test = [],[]\n",
    "    for train_index, test_index in kf:\n",
    "        sub_df, sub_df_test = df.iloc[train_index], df.iloc[test_index]\n",
    "\n",
    "        # 1. Train\n",
    "        result = fit_gmm(sub_df, number_of_gaussian, fit_method = FIT_METHOD)\n",
    "        gmm_pdf_result_train = result['gmm_pdf_result']\n",
    "        kde_result_train = result['kde_result']\n",
    "\n",
    "        # 2. Validate\n",
    "        # GMM from Train - KDE from Test\n",
    "        sample = array(zip(sub_df_test.x, sub_df_test.y))\n",
    "        kde_test = neighbors.KernelDensity(bandwidth=bandwidth).fit(sample) \n",
    "        kde_result_test = exp(kde_test.score_samples(points))\n",
    "\n",
    "        gof_train = goodness_of_fit_summary(gmm_pdf_result_train, \n",
    "                                            kde_result_train,)\n",
    "        gof_test =  goodness_of_fit_summary(gmm_pdf_result_train, \n",
    "                                            kde_result_test,)\n",
    "                \n",
    "        CV_result_train.append(gof_train)\n",
    "        CV_result_test.append(gof_test)\n",
    "        \n",
    "    CV_result_train_all.append(CV_result_train)\n",
    "    CV_result_test_all.append(CV_result_test)\n",
    "    \n",
    "    print 'Train'\n",
    "    pretty_pd_display(CV_result_train)\n",
    "    print 'Test'\n",
    "    pretty_pd_display(CV_result_test)"
   ]
  },
  {
   "cell_type": "code",
   "execution_count": null,
   "metadata": {
    "collapsed": false
   },
   "outputs": [],
   "source": [
    "train_scores_mean, train_scores_std = generate_mean_std_gof(CV_result_train_all)\n",
    "print 'Train gof mean, std'\n",
    "display(train_scores_mean)\n",
    "\n",
    "test_scores_mean, test_scores_std = generate_mean_std_gof(CV_result_test_all)\n",
    "print 'Test gof mean, std'\n",
    "display(test_scores_mean)"
   ]
  },
  {
   "cell_type": "code",
   "execution_count": null,
   "metadata": {
    "collapsed": false,
    "scrolled": false
   },
   "outputs": [],
   "source": [
    "prop_cycle=sns.color_palette()\n",
    "for column in ['R_square','K_S','Chi_square', ]:\n",
    "    fig, ax = plt.subplots()\n",
    "    fig.set_size_inches(7, 3)\n",
    "    plt.plot(gaussian_number_range, train_scores_mean[column],\n",
    "             '-', label = 'train', color=prop_cycle[0])\n",
    "    plt.fill_between(gaussian_number_range, \n",
    "                     train_scores_mean[column] - train_scores_std[column],\n",
    "                     train_scores_mean[column] + train_scores_std[column], \n",
    "                     alpha=0.2, color=prop_cycle[0])\n",
    "    \n",
    "    plt.plot(gaussian_number_range, test_scores_mean[column],\n",
    "             '-', label = 'test',color=prop_cycle[1])\n",
    "    plt.fill_between(gaussian_number_range, \n",
    "                 test_scores_mean[column] - test_scores_std[column],\n",
    "                 test_scores_mean[column] + test_scores_std[column], \n",
    "                 alpha=0.2,color=prop_cycle[1])\n",
    "    plt.suptitle(column)\n",
    "    plt.xticks(gaussian_number_range)\n",
    "    plt.legend()\n",
    "    plt.show()"
   ]
  },
  {
   "cell_type": "code",
   "execution_count": null,
   "metadata": {
    "collapsed": false
   },
   "outputs": [],
   "source": [
    "import time\n",
    "save_notebook()\n",
    "time.sleep(3)\n",
    "location_name = get_location_name(ipath)\n",
    "current_file = 'time_shift.ipynb'\n",
    "output_file = './output_HTML/'+location_name+'.html' \n",
    "output_HTML(current_file, output_file)"
   ]
  },
  {
   "cell_type": "markdown",
   "metadata": {},
   "source": [
    "## 6.3 Variance of KDE"
   ]
  },
  {
   "cell_type": "code",
   "execution_count": null,
   "metadata": {
    "collapsed": false
   },
   "outputs": [],
   "source": [
    "sss"
   ]
  },
  {
   "cell_type": "code",
   "execution_count": null,
   "metadata": {
    "collapsed": true
   },
   "outputs": [],
   "source": [
    "%autosave??"
   ]
  },
  {
   "cell_type": "code",
   "execution_count": null,
   "metadata": {
    "collapsed": false
   },
   "outputs": [],
   "source": [
    "gmm1 = [0.552104,-0.055681,2.256591,2.757752,2.731348,0.034628,\n",
    "        0.372591,2.376362,-2.098443,1.621717,2.213625,-0.01429,\n",
    "        0.055879,1.009152,-1.430799,2.10049,0.808011,0.08083,\n",
    "        0.019425,-0.432981,2.574572,0.784784,0.796954,-0.020531]\n",
    "\n",
    "gmm2 = [0.552104,-0.055681,2.256591,2.757752,2.731348,0.034628,\n",
    "        0.372591,2.376362,-2.098443,1.621717,2.213625,-0.01429,]\n",
    "\n",
    "gmm3 = [0.552104,-0.055681,2.256591,2.757752,2.731348,0.034628,]\n",
    "\n",
    "gmms = [gmm1,gmm2,gmm3]\n",
    "pdfs =[]\n",
    "\n",
    "for gmm in gmms:\n",
    "    plot_gmm_ellipses(gmm)\n",
    "    gmm = group_gmm_param_from_gmm_param_array(gmm) \n",
    "    mixed_model_pdf = generate_gmm_pdf_from_grouped_gmm_param(gmm)\n",
    "    X = Y = PLOT_AXIS_RANGE\n",
    "    pdf_Z = generate_Z_from_X_Y(X,Y, mixed_model_pdf)# passing a function as an argument\n",
    "    pdfs.append(pdf_Z)\n",
    "    plot_2d_prob_density(X,Y,pdf_Z)"
   ]
  },
  {
   "cell_type": "code",
   "execution_count": null,
   "metadata": {
    "collapsed": false
   },
   "outputs": [],
   "source": [
    "plot_2d_prob_density(X,Y,pdfs[0]-pdfs[1])"
   ]
  },
  {
   "cell_type": "code",
   "execution_count": null,
   "metadata": {
    "collapsed": false
   },
   "outputs": [],
   "source": [
    "for start_time in xrange(20000000, 20150000, 50000):\n",
    "    end_time = start_time + 50000 \n",
    "    sub_df = df_all_years.query('(date >= @start_time) & (date < @end_time)')\n",
    "    sample = sub_speed_set = array(zip(sub_df.x, sub_df.y))\n",
    "    points = FITTING_RANGE\n",
    "    \n",
    "    # 2. KDE + EM fitting\n",
    "    kde = neighbors.KernelDensity(bandwidth=bandwidth).fit(sample) \n",
    "    \n",
    "    X = Y = PLOT_AXIS_RANGE\n",
    "    kde_Z = generate_Z_from_X_Y(X,Y, lambda coords: exp(kde.score_samples(coords)))\n",
    "    fig, ax = plt.subplots()\n",
    "    fig.set_size_inches(14, 4)\n",
    "    plot_2d_prob_density(X,Y,kde_Z,ax)\n",
    "    plt.show()\n",
    "#     plot_speed_and_angle_distribution(sub_df.speed, sub_df.dir)"
   ]
  },
  {
   "cell_type": "code",
   "execution_count": null,
   "metadata": {
    "collapsed": true
   },
   "outputs": [],
   "source": [
    "# 5-fold cross validation\n",
    "gaussian_number_range = arange(3,5)\n",
    "CV_result_train_all,CV_result_test_all =[],[]\n",
    "number_of_fold = 4\n",
    "print 'Number of train/test dataset', len(df)*(number_of_fold-1)/number_of_fold, len(df)/number_of_fold\n",
    "\n",
    "for number_of_gaussian in gaussian_number_range:\n",
    "    print '  '\n",
    "    print 'Number of gaussian', number_of_gaussian\n",
    "    \n",
    "    kf = KFold(len(df), n_folds=number_of_fold, shuffle=True) \n",
    "\n",
    "    CV_result_train, CV_result_test = [],[]\n",
    "    for train_index, test_index in kf:\n",
    "        sub_df, sub_df_test = df.iloc[train_index], df.iloc[test_index]\n",
    "\n",
    "        # 1. Train\n",
    "        result = fit_gmm(sub_df, number_of_gaussian, fit_method = FIT_METHOD)\n",
    "        gmm_pdf_result_train = result['gmm_pdf_result']\n",
    "        kde_train = result['kde_clf']\n",
    "        kde_result_train = result['kde_result']\n",
    "\n",
    "        # 2. Validate\n",
    "        # GMM from Train - KDE from Test\n",
    "        sample = array(zip(sub_df_test.x, sub_df_test.y))\n",
    "        kde_test = neighbors.KernelDensity(bandwidth=bandwidth).fit(sample) \n",
    "        kde_result_test = exp(kde_test.score_samples(points))\n",
    "\n",
    "        gof_train = goodness_of_fit_summary(gmm_pdf_result_train, \n",
    "                                            kde_result_train,)\n",
    "        gof_test =  goodness_of_fit_summary(gmm_pdf_result_train, \n",
    "                                            kde_result_test,)\n",
    "                \n",
    "        # Plot jPDF\n",
    "        X = Y = PLOT_AXIS_RANGE\n",
    "        kde_train_Z = generate_Z_from_X_Y(X,Y, lambda coords: exp(kde_train.score_samples(coords)))\n",
    "        fig = plt.figure(figsize=(22,6))\n",
    "        ax1 = fig.add_subplot(1,3,1)\n",
    "        plot_2d_prob_density(X,Y,kde_train_Z, ax1)\n",
    "        \n",
    "        ax2 = fig.add_subplot(1,3,2)\n",
    "        kde_test_Z = generate_Z_from_X_Y(X,Y, lambda coords: exp(kde_test.score_samples(coords)))\n",
    "        plot_2d_prob_density(X,Y,kde_test_Z, ax2)\n",
    "            \n",
    "        ax3 = fig.add_subplot(1,3,3)\n",
    "        plot_2d_prob_density(X,Y,kde_train_Z-kde_test_Z,ax3)\n",
    "        \n",
    "        pretty_pd_display([gof_train, gof_test], index=[\"gof_train\", \"gof_test\"]))\n",
    "        "
   ]
  }
 ],
 "metadata": {
  "kernelspec": {
   "display_name": "Python 2",
   "language": "python",
   "name": "python2"
  },
  "language_info": {
   "codemirror_mode": {
    "name": "ipython",
    "version": 2
   },
   "file_extension": ".py",
   "mimetype": "text/x-python",
   "name": "python",
   "nbconvert_exporter": "python",
   "pygments_lexer": "ipython2",
   "version": "2.7.11"
  },
  "toc": {
   "toc_cell": false,
   "toc_number_sections": false,
   "toc_threshold": 4,
   "toc_window_display": false
  },
  "toc_position": {
   "left": "775px",
   "right": "291px",
   "top": "118px",
   "width": "300px"
  }
 },
 "nbformat": 4,
 "nbformat_minor": 0
}
